{
 "cells": [
  {
   "cell_type": "markdown",
   "metadata": {},
   "source": [
    "## Learning Objectives\n",
    "\n",
    "By the end of this session you should be able to...\n",
    "\n",
    "1. Take the derivative of a function over one variable\n",
    "1. Take the partial derivative of a function over all of its variables \n",
    "1. Find the minimum of the function to obtain the best line that represents relationships between two variables in a dataset"
   ]
  },
  {
   "cell_type": "markdown",
   "metadata": {},
   "source": [
    "## Why are derivatives important?\n",
    "\n",
    "Derivatives are the foundation for Linear Regression (a topic we'll cover later in the course) that allows us to obtain the best line that represents relationships between two variables in a dataset.\n",
    "\n",
    "## Introduction to Derivatives\n",
    "\n",
    "The process of fidning a derivative is called **Differentiation**, which is a technique used to calculate the slope of a graph at different points.\n",
    "\n",
    "### Activity - Derivative Tutorial:\n",
    "\n",
    "1. Go through this [Derivative tutorial from Math Is Fun](https://www.mathsisfun.com/calculus/derivatives-introduction.html) (15 min)\n",
    "1. When you're done, talk with a partner about topics you still have questions on. See if you can answer each other's questions. (5 min)\n",
    "1. We'll then go over questions on the tutorial as a class (10 min)\n",
    "\n",
    "### Review Diagram\n",
    "\n",
    "Review the below diagram as a class, and compare with what you just learned in the above Derivative Tutorial. Note that a Gradient Function is just another name for the Derivative of a function:\n",
    "\n",
    "<img src=\"diff_y_x2.png\" width=\"600\" height=\"600\">\n",
    "<img src=\"diff_y_x2_gragh.png\" width=\"600\" height=\"600\">"
   ]
  },
  {
   "cell_type": "markdown",
   "metadata": {},
   "source": [
    "## Derivative Formula\n",
    "\n",
    "- Choose small $\\Delta x$\n",
    "\n",
    "- $f^\\prime(x) = \\frac{d}{dx}f(x) = \\frac{\\Delta y}{\\Delta x}  = \\frac{f(x + \\Delta x) - f(x)}{\\Delta x}$\n",
    "\n",
    "Remember that $\\Delta x$ approaches 0. So if plugging in a value in the above formula, choose a _very_ small number, or simplify the equation further such that all $\\Delta x = 0$, like we saw in the tutorial"
   ]
  },
  {
   "cell_type": "markdown",
   "metadata": {},
   "source": [
    "## Activity: Write a Python function that calculates the gradient of $x^2$ at $x = 3$ and $x = -2$ using the above definition"
   ]
  },
  {
   "cell_type": "code",
   "execution_count": 5,
   "metadata": {},
   "outputs": [
    {
     "name": "stdout",
     "output_type": "stream",
     "text": [
      "6.000001000927568\n",
      "-3.999998999582033\n"
     ]
    }
   ],
   "source": [
    "def f(x):\n",
    "    return x**2\n",
    "\n",
    "\n",
    "eps = 1e-6\n",
    "x = 3\n",
    "print((f(x + eps) - f(x)) / eps)\n",
    "x = -2\n",
    "print((f(x + eps) - f(x)) / eps)"
   ]
  },
  {
   "cell_type": "markdown",
   "metadata": {},
   "source": [
    "Note that these values match $2x$, our derivative of $x^2$:\n",
    "\n",
    "$2*3 = 6$\n",
    "\n",
    "$2 * -2 = -4$"
   ]
  },
  {
   "cell_type": "markdown",
   "metadata": {},
   "source": [
    "## Derivative Table\n",
    "\n",
    "As a shortcut, use the second page of this PDF to find the derivative for common formulas. Utilize this as a resource going forward!\n",
    "\n",
    "- https://www.qc.edu.hk/math/Resource/AL/Derivative%20Table.pdf"
   ]
  },
  {
   "cell_type": "markdown",
   "metadata": {},
   "source": [
    "## Extend Gradient into Two-Dimensional Space"
   ]
  },
  {
   "cell_type": "markdown",
   "metadata": {},
   "source": [
    "Now we know how to calculate a derivative of one variable. But what if we have two?\n",
    "\n",
    "To do this, we need to utilize **Partial Derivatives**. Calculating a partial derivative is essentially calculating two derivatives for a function: one for each variable, where they other variable is set to a constant.\n",
    "\n",
    "### Activity - Partial Derivative Video\n",
    "\n",
    "Lets watch this video about Partial Derivative Intro from Khan Academy: https://youtu.be/AXqhWeUEtQU\n",
    "\n",
    "**Note:** Here are some derivative shortcuts that will help in the video:\n",
    "\n",
    "$\\frac{d}{dx}x^2 = 2x$\n",
    "\n",
    "$\\frac{d}{x}sin(x) = cos(x)$\n",
    "\n",
    "$\\frac{d}{dx}x = 1$\n",
    "\n",
    "### Activity - Now You Try!\n",
    "Consider the function $f(x, y) = \\frac{x^2}{y}$\n",
    "\n",
    "- Calculate the first order partial derivatives ($\\frac{\\partial f}{\\partial x}$ and $\\frac{\\partial f}{\\partial y}$) and evaluate them at the point $P(2, 1)$."
   ]
  },
  {
   "cell_type": "markdown",
   "metadata": {},
   "source": [
    "## We can use the Symbolic Python package (library) to compute the derivatives and partial derivatives"
   ]
  },
  {
   "cell_type": "code",
   "execution_count": 7,
   "metadata": {},
   "outputs": [
    {
     "name": "stdout",
     "output_type": "stream",
     "text": [
      "^C\n"
     ]
    }
   ],
   "source": [
    "!pip install sympy"
   ]
  },
  {
   "cell_type": "code",
   "execution_count": 6,
   "metadata": {},
   "outputs": [
    {
     "ename": "ModuleNotFoundError",
     "evalue": "No module named 'sympy'",
     "output_type": "error",
     "traceback": [
      "\u001b[1;31m---------------------------------------------------------------------------\u001b[0m",
      "\u001b[1;31mModuleNotFoundError\u001b[0m                       Traceback (most recent call last)",
      "\u001b[1;32m<ipython-input-6-9513b954f954>\u001b[0m in \u001b[0;36m<module>\u001b[1;34m\u001b[0m\n\u001b[1;32m----> 1\u001b[1;33m \u001b[1;32mfrom\u001b[0m \u001b[0msympy\u001b[0m \u001b[1;32mimport\u001b[0m \u001b[0msymbols\u001b[0m\u001b[1;33m,\u001b[0m \u001b[0mdiff\u001b[0m\u001b[1;33m\u001b[0m\u001b[1;33m\u001b[0m\u001b[0m\n\u001b[0m\u001b[0;32m      2\u001b[0m \u001b[1;31m# initialize x and y to be symbols to use in a function\u001b[0m\u001b[1;33m\u001b[0m\u001b[1;33m\u001b[0m\u001b[1;33m\u001b[0m\u001b[0m\n\u001b[0;32m      3\u001b[0m \u001b[0mx\u001b[0m\u001b[1;33m,\u001b[0m \u001b[0my\u001b[0m \u001b[1;33m=\u001b[0m \u001b[0msymbols\u001b[0m\u001b[1;33m(\u001b[0m\u001b[1;34m'x y'\u001b[0m\u001b[1;33m,\u001b[0m \u001b[0mreal\u001b[0m\u001b[1;33m=\u001b[0m\u001b[1;32mTrue\u001b[0m\u001b[1;33m)\u001b[0m\u001b[1;33m\u001b[0m\u001b[1;33m\u001b[0m\u001b[0m\n\u001b[0;32m      4\u001b[0m \u001b[0mf\u001b[0m \u001b[1;33m=\u001b[0m \u001b[1;33m(\u001b[0m\u001b[0mx\u001b[0m\u001b[1;33m**\u001b[0m\u001b[1;36m2\u001b[0m\u001b[1;33m)\u001b[0m\u001b[1;33m/\u001b[0m\u001b[0my\u001b[0m\u001b[1;33m\u001b[0m\u001b[1;33m\u001b[0m\u001b[0m\n\u001b[0;32m      5\u001b[0m \u001b[1;31m# Find the partial derivatives of x and y\u001b[0m\u001b[1;33m\u001b[0m\u001b[1;33m\u001b[0m\u001b[1;33m\u001b[0m\u001b[0m\n",
      "\u001b[1;31mModuleNotFoundError\u001b[0m: No module named 'sympy'"
     ]
    }
   ],
   "source": [
    "from sympy import symbols, diff\n",
    "# initialize x and y to be symbols to use in a function\n",
    "x, y = symbols('x y', real=True)\n",
    "f = (x**2)/y\n",
    "# Find the partial derivatives of x and y\n",
    "fx = diff(f, x, evaluate=True) # partial derivative of f(x,y) with respect to x\n",
    "fy = diff(f, y, evaluate=True) # partial derivative of f(x,y) with respect to y\n",
    "print(fx)\n",
    "print(fy)\n",
    "# print(f.evalf(subs={x: 2, y: 1}))\n",
    "print(fx.evalf(subs={x: 2, y: 1}))\n",
    "print(fy.evalf(subs={x: 2, y: 1}))"
   ]
  },
  {
   "cell_type": "code",
   "execution_count": null,
   "metadata": {},
   "outputs": [],
   "source": []
  },
  {
   "cell_type": "code",
   "execution_count": null,
   "metadata": {},
   "outputs": [],
   "source": []
  },
  {
   "cell_type": "markdown",
   "metadata": {},
   "source": [
    "## Optional Reading: Tensorflow is a powerful package from Google that calculates the derivatives and partial derivatives numerically "
   ]
  },
  {
   "cell_type": "code",
   "execution_count": null,
   "metadata": {},
   "outputs": [],
   "source": [
    "import tensorflow as tf \n",
    "\n",
    "x = tf.Variable(2.0)\n",
    "y = tf.Variable(1.0)\n",
    "\n",
    "with tf.GradientTape(persistent=True) as t:\n",
    "    z = tf.divide(tf.multiply(x, x), y)\n",
    "\n",
    "# Use the tape to compute the derivative of z with respect to the\n",
    "# intermediate value x and y.\n",
    "dz_dx = t.gradient(z, x)\n",
    "dz_dy = t.gradient(z, y)\n",
    "\n",
    "\n",
    "print(dz_dx)\n",
    "print(dz_dy)\n",
    "\n",
    "# All at once:\n",
    "gradients = t.gradient(z, [x, y])\n",
    "print(gradients)\n",
    "\n",
    "\n",
    "del t"
   ]
  },
  {
   "cell_type": "markdown",
   "metadata": {},
   "source": [
    "## Optional Reading: When x and y are declared as constant, we should add `t.watch(x)` and `t.watch(y)`"
   ]
  },
  {
   "cell_type": "code",
   "execution_count": null,
   "metadata": {},
   "outputs": [],
   "source": [
    "import tensorflow as tf \n",
    "\n",
    "x = tf.constant(2.0)\n",
    "y = tf.constant(1.0)\n",
    "\n",
    "with tf.GradientTape(persistent=True) as t:\n",
    "    t.watch(x)\n",
    "    t.watch(y)\n",
    "    z = tf.divide(tf.multiply(x, x), y)\n",
    "\n",
    "# Use the tape to compute the derivative of z with respect to the\n",
    "# intermediate value y.\n",
    "dz_dx = t.gradient(z, x)\n",
    "dz_dy = t.gradient(z, y)"
   ]
  },
  {
   "cell_type": "markdown",
   "metadata": {},
   "source": [
    "# Calculate Partial Derivative from Definition"
   ]
  },
  {
   "cell_type": "code",
   "execution_count": 8,
   "metadata": {},
   "outputs": [
    {
     "name": "stdout",
     "output_type": "stream",
     "text": [
      "4.0000010006480125\n",
      "-3.9999959997594203\n"
     ]
    }
   ],
   "source": [
    "def f(x, y):\n",
    "    return x**2/y\n",
    "\n",
    "\n",
    "eps = 1e-6\n",
    "x = 2\n",
    "y = 1\n",
    "print((f(x + eps, y) - f(x, y)) / eps)\n",
    "print((f(x, y + eps) - f(x, y)) / eps)"
   ]
  },
  {
   "cell_type": "markdown",
   "metadata": {},
   "source": [
    "Looks about right! This works rather well, but it is just an approximation. Also, you need to call `f()` at least once per parameter (not twice, since we could compute `f(x, y)` just once). This makes this approach difficult to control for large systems (for example neural networks)."
   ]
  },
  {
   "cell_type": "markdown",
   "metadata": {},
   "source": [
    "## Why Do we need Partial Gradients?\n",
    "\n",
    "In many applications, more specifically DS applications, we want to find the Minimum of a cost function\n",
    "\n",
    "- **Cost Function:** a function used in machine learning to help correct / change behaviour to minimize mistakes. Or in other words, a measure of how wrong the model is in terms of its ability to estimate the relationship between x and y. [Source](https://towardsdatascience.com/machine-learning-fundamentals-via-linear-regression-41a5d11f5220)\n",
    "\n",
    "\n",
    "Why do we want to find the minimum for a cost function? Given that a cost function mearues how wrong a model is, we want to _minimize_ that error!\n",
    "\n",
    "In Machine Learning, we frequently use models to run our data through, and cost functions help us figure out how badly our models are performing. We want to find parameters (also known as **weights**) to minimize our cost function, therefore minimizing error!\n",
    "\n",
    "We find find these optimal weights by using a **Gradient Descent**, which is an algorithm that tries to find the minimum of a function (exactly what we needed!). The gradient descent tells the model which direction it should take in order to minimize errors, and it does this by selecting more and more optimal weights until we've minimized the function! We'll learn more about models when we talk about Linear Regression in a future lesson, but for now, let's review the Gradient Descent process with the below images, given weights $w_0$ and $w_1$:\n",
    "\n",
    "<img src=\"gradient_descent.png\" width=\"800\" height=\"800\">\n",
    "\n",
    "Look at that bottom right image. Looks like we're using partial derivatives to find out optimal weights. And we know exactly how to do that!"
   ]
  },
  {
   "cell_type": "markdown",
   "metadata": {},
   "source": [
    "## Finding minimum of a function\n",
    "\n",
    "Assume we want to minimize the function $J$ which has two weights $w_0$ and $w_1$\n",
    "\n",
    "We have two options to find the minimum of $J(w_0, w_1)$:\n",
    "\n",
    "1. Take partial derivatives of $J(w_0, w_1)$ with relation to $w_0$ and $w_1$:\n",
    "\n",
    "$\\frac{\\partial J(w_0, w_1)}{\\partial w_0}$\n",
    "\n",
    "$\\frac{\\partial J(w_0, w_1)}{\\partial w_1}$\n",
    "\n",
    "And find the appropriate weights such that the partial derivatives equal 0:\n",
    "\n",
    "$\\frac{\\partial J(w_0, w_1)}{\\partial w_0} = 0$\n",
    "\n",
    "$\\frac{\\partial J(w_0, w_1)}{\\partial w_1} = 0$\n",
    "\n",
    "In this approach we should solve system of linear or non-linear equation\n",
    "\n",
    "2. Use the Gradient Descent algorithm:\n",
    "\n",
    "First we need to define two things:\n",
    "\n",
    "- A step-size alpha ($\\alpha$) -- also called the *learning rate* -- as a small number (like $1.e-5$)\n",
    "- An arbitrary random initial value for $w_0$ and $w_1$: $w_0 = np.random.randn()$ and $w_1 = np.random.randn()$\n",
    "\n",
    "Finally, we need to search for the most optimal $w_0$ and $w_1$ by using a loop to update the weights until we find the most optimal weights. We'll need to establish a threshold to compare weights to know when to stop the loop. For example, if the weight update -- the change in the weight parameter -- from one iteration is within 0.0001 of the weight from the previous iteration, we can stop the loop (0.0001 is our threshold here)\n",
    "\n",
    "Let's review some pseudocode for how to implement this algorithm:\n",
    "\n",
    "```\n",
    "# initialization\n",
    "initialize the following:\n",
    "    a starting weight value -- an initial guess, could be random\n",
    "    the learning rate (alpha), a small number (we'll choose 1.e-5)\n",
    "    the threshold -- set this to 1.e-4\n",
    "    the current weight update -- initialize to 1\n",
    "\n",
    "# weight update loop\n",
    "while the weight update is greater than the threshold:\n",
    "    store the current values of the weights into a previous value variable \n",
    "    set the weight values to new values based on the algorithm, by adding the weight updates\n",
    "```\n",
    "\n",
    "How do we `set the weight values to new values based on the algorithm`? by using the below equations:\n",
    "    \n",
    "$w_0 = w_0 - \\alpha \\frac{\\partial J(w_0, w_1)}{\\partial w_0}$\n",
    "        \n",
    "$w_1 = w_1 - \\alpha \\frac{\\partial J(w_0, w_1)}{\\partial w_1}$\n",
    "\n",
    "\n",
    "Finish the \"starter code\" block below, creating real code from the pseudocode!\n",
    "\n",
    "\n",
    "**Stretch Challenge:** We may also want to limit the number of loops we do, in addition to checking the threshold. Determine how we may go about doing that\n",
    "\n",
    "\n",
    "## Resources\n",
    "\n",
    "- [Derivative tutorial from Math Is Fun](https://www.mathsisfun.com/calculus/derivatives-introduction.html) \n",
    "- [Derivative Table](https://www.qc.edu.hk/math/Resource/AL/Derivative%20Table.pdf)\n",
    "- [Khan Academy - Partial Derivatives video](https://www.youtube.com/watch?v=AXqhWeUEtQU&feature=youtu.be)\n",
    "- [Towards Data Science - Machine Learning Fundamentals: cost functions and gradient Descent](https://towardsdatascience.com/machine-learning-fundamentals-via-linear-regression-41a5d11f5220)"
   ]
  },
  {
   "cell_type": "markdown",
   "metadata": {},
   "source": [
    "## Gradient descent in one dimension\n",
    "This is the go-to method for finding the minimum of a function that is used in all of machine learning"
   ]
  },
  {
   "cell_type": "markdown",
   "metadata": {},
   "source": [
    "### pseudo-code\n",
    "def minimize(fx):\n",
    "    # Initialize\n",
    "    \n",
    "    # run the weight update loop until it terminates\n",
    "    \n",
    "    # return the current weights"
   ]
  },
  {
   "cell_type": "code",
   "execution_count": 9,
   "metadata": {},
   "outputs": [
    {
     "data": {
      "image/png": "[encoded data removed]",
      "text/plain": [
       "<Figure size 432x288 with 1 Axes>"
      ]
     },
     "metadata": {
      "needs_background": "light"
     },
     "output_type": "display_data"
    }
   ],
   "source": [
    "import matplotlib.pyplot as plt\n",
    "import numpy as np\n",
    "np.random.seed(42)\n",
    "eps = 1.e-10\n",
    "\n",
    "# define an interesting function to minimize\n",
    "x = np.linspace(-10,10, 100)\n",
    "fx =lambda x: (1/50)*x**4 - 2*x**2 + x + 1 \n",
    "# compute derivative of x using the calculus formula\n",
    "df_dx = lambda x: (4/50)*x**3 - 4*x + 1\n",
    "\n",
    "# plot the function, and its derivative\n",
    "plt.plot(x,fx(x),label = 'function f(x)')\n",
    "plt.plot(x,df_dx(x),'r--',label = 'derivative df/dx')\n",
    "plt.legend()\n",
    "plt.grid()"
   ]
  },
  {
   "cell_type": "markdown",
   "metadata": {},
   "source": [
    "### Write a function to compute derivatives via the slope formula"
   ]
  },
  {
   "cell_type": "code",
   "execution_count": 59,
   "metadata": {},
   "outputs": [],
   "source": [
    "def derivative(fx,x):\n",
    "    delta_x = 1.e-10\n",
    "    df_dx = (fx(x + delta_x) - fx(x))/delta_x\n",
    "    return df_dx"
   ]
  },
  {
   "cell_type": "code",
   "execution_count": 61,
   "metadata": {},
   "outputs": [
    {
     "data": {
      "text/plain": [
       "-17.593890788702993"
      ]
     },
     "execution_count": 61,
     "metadata": {},
     "output_type": "execute_result"
    }
   ],
   "source": [
    "# test your derivative code by choosing a few x values \n",
    "#     and see if your answers make sense\n",
    "derivative(fx,x=-8.75)"
   ]
  },
  {
   "cell_type": "markdown",
   "metadata": {},
   "source": [
    "### gradient descent function"
   ]
  },
  {
   "cell_type": "code",
   "execution_count": 46,
   "metadata": {},
   "outputs": [],
   "source": [
    "def gradient_descent(fx,x_init):\n",
    "    \n",
    "    # Initialize\n",
    "    alpha = 1.e-4\n",
    "    threshold = 1.e-4\n",
    "    delta_x = 1.\n",
    "    x = x_init\n",
    "    n_iter = 0\n",
    "    x_values = []\n",
    "    \n",
    "    # run the weight update loop until it terminates\n",
    "    while np.abs(delta_x) > threshold: #and n_iter < max_iter:\n",
    "        \n",
    "        df_dx = derivative(fx,x)\n",
    "        delta_x = -alpha*df_dx\n",
    "        x = x + delta_x\n",
    "        x_values.append(x)\n",
    "        n_iter+=1\n",
    "        \n",
    "        # print(f'df_dx = {df_dx}, delta_x = {delta_x}, x = {x}')\n",
    "    return x, n_iter, x_values "
   ]
  },
  {
   "cell_type": "markdown",
   "metadata": {},
   "source": [
    "### Choose an initial value for x, then run gradient descent"
   ]
  },
  {
   "cell_type": "code",
   "execution_count": 64,
   "metadata": {},
   "outputs": [
    {
     "name": "stdout",
     "output_type": "stream",
     "text": [
      "Started at 2.5, found minimum 6.806571410594984 after 6853 iterations\n"
     ]
    }
   ],
   "source": [
    "# choose a random starting point\n",
    "# np.random.seed(42)\n",
    "x_init = np.random.uniform(-10,10,1) \n",
    "x_init = 2.5\n",
    "x_star, n_iter, x_values = gradient_descent(fx,x_init) #, x_init, x_values, n_iter \n",
    "print(f'Started at {x_init}, found minimum {x_star} after {n_iter} iterations')"
   ]
  },
  {
   "cell_type": "markdown",
   "metadata": {},
   "source": [
    "### Check that the derivative is indeed close to zero at the minimum found by our gradient descent function"
   ]
  },
  {
   "cell_type": "code",
   "execution_count": 65,
   "metadata": {},
   "outputs": [
    {
     "name": "stdout",
     "output_type": "stream",
     "text": [
      "derivative from calculus formula: -0.9987282580894323\n",
      "derivative from slope equation:  -0.9987388693843968\n"
     ]
    }
   ],
   "source": [
    "# derivative, from calculus \n",
    "print(f'derivative from calculus formula: {df_dx(x_star)}')\n",
    "\n",
    "# derivative, from slope formula\n",
    "delta_x = 1.e-10\n",
    "print(f'derivative from slope equation:  {derivative(fx,x_star)}')"
   ]
  },
  {
   "cell_type": "markdown",
   "metadata": {},
   "source": [
    "### Show how gradient descent reached the minimum"
   ]
  },
  {
   "cell_type": "code",
   "execution_count": 57,
   "metadata": {},
   "outputs": [
    {
     "data": {
      "image/png": "[encoded data removed]",
      "text/plain": [
       "<Figure size 432x288 with 1 Axes>"
      ]
     },
     "metadata": {
      "needs_background": "light"
     },
     "output_type": "display_data"
    }
   ],
   "source": [
    "x_values = np.array(x_values)\n",
    "plt.plot(x,fx(x),label = 'function f(x)')\n",
    "plt.plot(np.array(x_values),fx(x_values),'.',markersize = 1, label='gradient descent updates')\n",
    "plt.plot(x_init,fx(x_init),'r.',markersize = 10, label = '$x_{init}$')\n",
    "plt.plot(x_star,fx(x_star),'k*',markersize = 10, label = '$x_{star}$')\n",
    "\n",
    "plt.xlabel('x')\n",
    "plt.ylabel('f(x)')\n",
    "plt.grid()\n",
    "plt.legend(loc='best');"
   ]
  },
  {
   "cell_type": "code",
   "execution_count": null,
   "metadata": {},
   "outputs": [],
   "source": []
  }
 ],
 "metadata": {
  "kernelspec": {
   "display_name": "Python 3",
   "language": "python",
   "name": "python3"
  },
  "language_info": {
   "codemirror_mode": {
    "name": "ipython",
    "version": 3
   },
   "file_extension": ".py",
   "mimetype": "text/x-python",
   "name": "python",
   "nbconvert_exporter": "python",
   "pygments_lexer": "ipython3",
   "version": "3.7.6"
  }
 },
 "nbformat": 4,
 "nbformat_minor": 2
}
