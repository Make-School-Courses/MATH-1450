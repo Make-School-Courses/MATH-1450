{
 "cells": [
  {
   "cell_type": "code",
   "execution_count": 9,
   "id": "lightweight-detail",
   "metadata": {},
   "outputs": [],
   "source": [
    "# TODO: Uncomment and run me if you get errors such as \"Module: seaborn does not exist\"\n",
    "# !pip3 install probscale\n",
    "# !pip3 install seaborn"
   ]
  },
  {
   "cell_type": "code",
   "execution_count": 5,
   "id": "grateful-feeling",
   "metadata": {},
   "outputs": [],
   "source": [
    "# Can you come up with an algorithm to calculate percentile?\n",
    "import numpy as np\n",
    "\n",
    "data = np.array([1, 3, 5, 2, 3, 7, 8, 4, 10, 0, 6, 7, 3, 0, 3, 0, 5, 7, 10, 1, 4, 9, 3])"
   ]
  },
  {
   "cell_type": "code",
   "execution_count": 6,
   "id": "elect-bridge",
   "metadata": {},
   "outputs": [
    {
     "data": {
      "text/plain": [
       "2.5"
      ]
     },
     "execution_count": 6,
     "metadata": {},
     "output_type": "execute_result"
    }
   ],
   "source": [
    "def percentile(data, percent):\n",
    "    \"\"\"\n",
    "    Calculate the item at a given percentile in a dataset.\n",
    "    \n",
    "    data: type - np.array\n",
    "    percent: type - integer\n",
    "    \"\"\"\n",
    "    # TODO: your code goes here\n",
    "    pass\n",
    "\n",
    "# 25th percentile \n",
    "percentile(data, 25)\n",
    "\n",
    "# check your work by comparing to np.percentile()\n",
    "np.percentile(data, 25)"
   ]
  },
  {
   "cell_type": "markdown",
   "id": "complimentary-ordinance",
   "metadata": {},
   "source": [
    "### Visualizing Percentiles"
   ]
  },
  {
   "cell_type": "code",
   "execution_count": 7,
   "id": "patient-speech",
   "metadata": {},
   "outputs": [
    {
     "data": {
      "image/png": "[encoded data removed]",
      "text/plain": [
       "<Figure size 432x216 with 1 Axes>"
      ]
     },
     "metadata": {
      "needs_background": "light"
     },
     "output_type": "display_data"
    }
   ],
   "source": [
    "# Visualizing percentile with matplotlib & seaborn\n",
    "# A closer look at this plot can be found here: https://matplotlib.org/mpl-probscale/tutorial/closer_look_at_viz.html\n",
    "import seaborn\n",
    "import matplotlib.pyplot as plt\n",
    "import probscale\n",
    "\n",
    "# Load in the \"tips\" dataset from the seaborn library for this example\n",
    "tips = seaborn.load_dataset(\"tips\")\n",
    "\n",
    "fig, ax = plt.subplots(figsize=(6, 3))\n",
    "\n",
    "# Use probscale's plottype 'pp' for percentile \n",
    "# We also provide our labels, which column from the dataset we'd like to plot, and some stylistic arguments\n",
    "fig = probscale.probplot(tips['total_bill'], ax=ax, plottype='pp', datascale='log',\n",
    "                         problabel='Percentile', datalabel='Total Bill (USD)',\n",
    "                         scatter_kws=dict(marker='.', linestyle='none', label='Bill Amount'))\n",
    "\n",
    "# Set y limit - we don't show anything greater than this on our graph\n",
    "ax.set_ylim(bottom=1, top=100)\n",
    "\n",
    "# Calling despine() is just an aesthetic decision. Comment this line out and see what happens!\n",
    "seaborn.despine()"
   ]
  },
  {
   "cell_type": "markdown",
   "id": "appreciated-above",
   "metadata": {},
   "source": [
    "### Can you use the above code to plot the percentiles for our variable 'data'? "
   ]
  },
  {
   "cell_type": "code",
   "execution_count": 8,
   "id": "modern-invasion",
   "metadata": {},
   "outputs": [],
   "source": [
    "# TODO: your code goes here! \n",
    "# HINT: you're going to want to make sure to change what we're plotting, as well as one of our labels. "
   ]
  },
  {
   "cell_type": "code",
   "execution_count": 9,
   "id": "palestinian-briefs",
   "metadata": {},
   "outputs": [
    {
     "data": {
      "image/png": "[encoded data removed]",
      "text/plain": [
       "<Figure size 432x216 with 1 Axes>"
      ]
     },
     "metadata": {
      "needs_background": "light"
     },
     "output_type": "display_data"
    }
   ],
   "source": []
  },
  {
   "cell_type": "code",
   "execution_count": null,
   "id": "mobile-society",
   "metadata": {},
   "outputs": [],
   "source": []
  }
 ],
 "metadata": {
  "kernelspec": {
   "display_name": "Python 3",
   "language": "python",
   "name": "python3"
  },
  "language_info": {
   "codemirror_mode": {
    "name": "ipython",
    "version": 3
   },
   "file_extension": ".py",
   "mimetype": "text/x-python",
   "name": "python",
   "nbconvert_exporter": "python",
   "pygments_lexer": "ipython3",
   "version": "3.8.6"
  }
 },
 "nbformat": 4,
 "nbformat_minor": 5
}
