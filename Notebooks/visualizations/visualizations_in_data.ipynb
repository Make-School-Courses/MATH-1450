{
 "cells": [
  {
   "cell_type": "markdown",
   "metadata": {},
   "source": [
    "# Visualizations in Data\n",
    "\n",
    "Data visualization is the presentation of data in graphical format. Data visualization is both an art and a science as it combines creating visualizations that are both engaging and accurate. In matheimatical applications visualizations can help you better observe trends and patterns in data, or discribe large datasets in a concise way. In this lesson we will focus on some of the most common graphs used to visualize data and describe some tools in Python that can help you create these visualizations!"
   ]
  },
  {
   "cell_type": "markdown",
   "metadata": {},
   "source": [
    "## Matplotlib\n",
    "To create our visulizations in Python we will be using the matplotlib library, which will give us the tools to easily create graphs and customiza them. We will cover some of the matplotlib functionality in this lesson, but check out [this resource](https://heartbeat.fritz.ai/introduction-to-matplotlib-data-visualization-in-python-d9143287ae39) if you want some more introduction to how to use this library."
   ]
  },
  {
   "cell_type": "markdown",
   "metadata": {},
   "source": [
    "## Dataset\n",
    "In this lesson we will be using the drinks file from the [Starbucks nutrition dataset](https://www.kaggle.com/starbucks/starbucks-menu). This dataset includes the nutritional information for Starbucks’ food and drink menu items. All nutritional information for drinks are for a 12oz serving size."
   ]
  },
  {
   "cell_type": "markdown",
   "metadata": {},
   "source": [
    "## Using and storing data\n",
    "Data is often stored in comma separated value files or .csv files. For many interesting datasets to try in your projects check out [Kaggle](https://www.kaggle.com/). In this lesson we will be using the starbucks drinks csv file as the basis for our visualizations. In python there is a library called csv that makes handling csv files easier. Take a look at the example below to learn more about how to use this library. "
   ]
  },
  {
   "cell_type": "code",
   "execution_count": 1,
   "metadata": {},
   "outputs": [
    {
     "name": "stdout",
     "output_type": "stream",
     "text": [
      "['Coffee', 'Brewed Coffee', 'Short', '3', '0.1', '0', '0', '0', '5', '0', '0', '0', '0.3', '0%', '0%', '0%', '0%', '175']\n",
      "['Coffee', 'Brewed Coffee', 'Tall', '4', '0.1', '0', '0', '0', '10', '0', '0', '0', '0.5', '0%', '0%', '0%', '0%', '260']\n",
      "['Coffee', 'Brewed Coffee', 'Grande', '5', '0.1', '0', '0', '0', '10', '0', '0', '0', '1', '0%', '0%', '0%', '0%', '330']\n",
      "['Coffee', 'Brewed Coffee', 'Venti', '5', '0.1', '0', '0', '0', '10', '0', '0', '0', '1', '0%', '0%', '2%', '0%', '410']\n",
      "['Classic Espresso Drinks', 'Caffè Latte', 'Short Nonfat Milk', '70', '0.1', '0.1', '0', '5', '75', '10', '0', '9', '6', '10%', '0%', '20%', '0%', '75']\n",
      "['Classic Espresso Drinks', 'Caffè Latte', '2% Milk', '100', '3.5', '2', '0.1', '15', '85', '10', '0', '9', '6', '10%', '0%', '20%', '0%', '75']\n",
      "['Classic Espresso Drinks', 'Caffè Latte', 'Soymilk', '70', '2.5', '0.4', '0', '0', '65', '6', '1', '4', '5', '6%', '0%', '20%', '8%', '75']\n",
      "['Classic Espresso Drinks', 'Caffè Latte', 'Tall Nonfat Milk', '100', '0.2', '0.2', '0', '5', '120', '15', '0', '14', '10', '15%', '0%', '30%', '0%', '75']\n",
      "['Classic Espresso Drinks', 'Caffè Latte', '2% Milk', '150', '6', '3', '0.2', '25', '135', '15', '0', '14', '10', '15%', '0%', '30%', '0%', '75']\n",
      "['Classic Espresso Drinks', 'Caffè Latte', 'Soymilk', '110', '4.5', '0.5', '0', '0', '105', '10', '1', '6', '8', '10%', '0%', '30%', '15%', '75']\n",
      "['Classic Espresso Drinks', 'Caffè Latte', 'Grande Nonfat Milk', '130', '0.3', '0.2', '0', '5', '150', '19', '0', '18', '13', '20%', '0%', '40%', '0%', '150']\n",
      "['Classic Espresso Drinks', 'Caffè Latte', '2% Milk', '190', '7', '3.5', '0.2', '30', '170', '19', '0', '17', '12', '20%', '2%', '40%', '0%', '150']\n",
      "['Classic Espresso Drinks', 'Caffè Latte', 'Soymilk', '150', '5', '0.5', '0', '0', '130', '13', '1', '8', '10', '15%', '0%', '40%', '15%', '150']\n",
      "['Classic Espresso Drinks', 'Caffè Latte', 'Venti Nonfat Milk', '170', '0.4', '0.3', '0', '10', '190', '25', '0', '23', '16', '30%', '0%', '50%', '0%', '150']\n",
      "['Classic Espresso Drinks', 'Caffè Latte', '2% Milk', '240', '9', '4.5', '0.3', '35', '220', '24', '0', '22', '16', '25%', '2%', '50%', '0%', '150']\n",
      "['Classic Espresso Drinks', 'Caffè Latte', 'Soymilk', '190', '7', '1', '0', '0', '170', '16', '2', '11', '13', '20%', '0%', '50%', '25%', '150']\n",
      "['Classic Espresso Drinks', 'Caffè Mocha (Without Whipped Cream)', 'Short Nonfat Milk', '110', '1.5', '1', '0', '5', '60', '21', '1', '17', '7', '8%', '0%', '15%', '10%', '85']\n",
      "['Classic Espresso Drinks', 'Caffè Mocha (Without Whipped Cream)', '2% Milk', '130', '4', '2', '0.1', '10', '70', '21', '1', '17', '6', '8%', '0%', '15%', '10%', '85']\n",
      "['Classic Espresso Drinks', 'Caffè Mocha (Without Whipped Cream)', 'Soymilk', '110', '3.5', '1', '0', '0', '55', '19', '2', '13', '6', '6%', '0%', '15%', '20%', '85']\n",
      "['Classic Espresso Drinks', 'Caffè Mocha (Without Whipped Cream)', 'Tall Nonfat Milk', '170', '2', '1', '0', '5', '100', '32', '1', '27', '10', '15%', '0%', '25%', '20%', '95']\n",
      "['Classic Espresso Drinks', 'Caffè Mocha (Without Whipped Cream)', '2% Milk', '200', '6', '3.5', '0.1', '20', '115', '32', '1', '26', '10', '15%', '0%', '25%', '20%', '95']\n",
      "['Classic Espresso Drinks', 'Caffè Mocha (Without Whipped Cream)', 'Soymilk', '180', '5', '1.5', '0', '0', '85', '28', '2', '20', '9', '10%', '0%', '25%', '30%', '95']\n",
      "['Classic Espresso Drinks', 'Caffè Mocha (Without Whipped Cream)', 'Grande Nonfat Milk', '220', '2.5', '1.5', '0', '5', '125', '43', '2', '34', '13', '20%', '0%', '35%', '25%', '175']\n",
      "['Classic Espresso Drinks', 'Caffè Mocha (Without Whipped Cream)', '2% Milk', '260', '8', '4.5', '0.2', '25', '140', '42', '2', '34', '13', '15%', '2%', '35%', '25%', '175']\n",
      "['Classic Espresso Drinks', 'Caffè Mocha (Without Whipped Cream)', 'Soymilk', '230', '7', '2', '0', '0', '105', '37', '3', '26', '11', '10%', '0%', '35%', '40%', '175']\n",
      "['Classic Espresso Drinks', 'Caffè Mocha (Without Whipped Cream)', 'Venti Nonfat Milk', '280', '3', '2', '0', '10', '160', '54', '2', '44', '17', '25%', '0%', '45%', '30%', '180']\n",
      "['Classic Espresso Drinks', 'Caffè Mocha (Without Whipped Cream)', '2% Milk', '340', '11', '6', '0.2', '30', '180', '53', '2', '43', '17', '20%', '2%', '45%', '30%', '180']\n",
      "['Classic Espresso Drinks', 'Caffè Mocha (Without Whipped Cream)', 'Soymilk', '290', '9', '2.5', '0', '0', '140', '47', '4', '33', '14', '15%', '0%', '45%', '50%', '180']\n",
      "['Classic Espresso Drinks', 'Vanilla Latte (Or Other Flavoured Latte)', 'Short Nonfat Milk', '100', '0.1', '0.1', '0', '5', '70', '19', '0', '18', '6', '10%', '0%', '20%', '0%', '75']\n",
      "['Classic Espresso Drinks', 'Vanilla Latte (Or Other Flavoured Latte)', '2% Milk', '130', '3.5', '1.5', '0.1', '15', '80', '18', '0', '17', '6', '10%', '0%', '20%', '0%', '75']\n",
      "['Classic Espresso Drinks', 'Vanilla Latte (Or Other Flavoured Latte)', 'Soymilk', '110', '2.5', '0.3', '0', '0', '60', '16', '1', '13', '5', '6%', '0%', '20%', '8%', '75']\n",
      "['Classic Espresso Drinks', 'Vanilla Latte (Or Other Flavoured Latte)', 'Tall Nonfat Milk', '150', '0.2', '0.1', '0', '5', '110', '28', '0', '27', '9', '15%', '0%', '30%', '0%', '75']\n",
      "['Classic Espresso Drinks', 'Vanilla Latte (Or Other Flavoured Latte)', '2% Milk', '200', '5', '2.5', '0.2', '20', '125', '28', '0', '27', '9', '15%', '0%', '30%', '0%', '75']\n",
      "['Classic Espresso Drinks', 'Vanilla Latte (Or Other Flavoured Latte)', 'Soymilk', '160', '4', '0.5', '0', '0', '95', '23', '1', '20', '7', '10%', '0%', '30%', '15%', '75']\n",
      "['Classic Espresso Drinks', 'Vanilla Latte (Or Other Flavoured Latte)', 'Grande Nonfat Milk', '200', '0.3', '0.2', '0', '5', '140', '37', '0', '35', '12', '20%', '0%', '35%', '0%', '150']\n",
      "['Classic Espresso Drinks', 'Vanilla Latte (Or Other Flavoured Latte)', '2% Milk', '250', '6', '3.5', '0.2', '25', '150', '37', '0', '35', '12', '20%', '2%', '35%', '0%', '150']\n",
      "['Classic Espresso Drinks', 'Vanilla Latte (Or Other Flavoured Latte)', 'Soymilk', '210', '5', '0.5', '0', '0', '120', '31', '1', '26', '9', '10%', '0%', '35%', '15%', '150']\n",
      "['Classic Espresso Drinks', 'Vanilla Latte (Or Other Flavoured Latte)', 'Venti Nonfat Milk', '250', '0.3', '0.2', '0', '10', '180', '47', '0', '45', '15', '25%', '0%', '50%', '0%', '150']\n",
      "['Classic Espresso Drinks', 'Vanilla Latte (Or Other Flavoured Latte)', '2% Milk', '320', '9', '4.5', '0.3', '35', '200', '46', '0', '44', '15', '25%', '2%', '45%', '0%', '150']\n",
      "['Classic Espresso Drinks', 'Vanilla Latte (Or Other Flavoured Latte)', 'Soymilk', '270', '7', '1', '0', '0', '160', '39', '2', '33', '12', '15%', '0%', '45%', '20%', '150']\n",
      "['Classic Espresso Drinks', 'Caffè Americano', 'Short', '5', '0', '0', '0', '0', '5', '1', '0', '0', '0.4', '0%', '0%', '0%', '0%', '75']\n",
      "['Classic Espresso Drinks', 'Caffè Americano', 'Tall', '10', '0', '0', '0', '0', '10', '2', '0', '0', '1', '0%', '0%', '2%', '0%', '150']\n",
      "['Classic Espresso Drinks', 'Caffè Americano', 'Grande', '15', '0', '0', '0', '0', '15', '3', '0', '0', '1', '0%', '0%', '2%', '0%', '225']\n",
      "['Classic Espresso Drinks', 'Caffè Americano', 'Venti', '25', '0', '0', '0', '0', '15', '4', '0', '0', '1', '0%', '0%', '2%', '0%', '300']\n",
      "['Classic Espresso Drinks', 'Cappuccino', 'Short Nonfat Milk', '50', '0.1', '0.1', '0', '5', '60', '8', '0', '7', '5', '8%', '0%', '15%', '0%', '75']\n",
      "['Classic Espresso Drinks', 'Cappuccino', '2% Milk', '80', '3', '1.5', '0.1', '10', '70', '8', '0', '7', '5', '8%', '0%', '15%', '0%', '75']\n",
      "['Classic Espresso Drinks', 'Cappuccino', 'Soymilk', '50', '1.5', '0.2', '0', '0', '40', '4', '0', '3', '3', '4%', '0%', '10%', '6%', '75']\n",
      "['Classic Espresso Drinks', 'Cappuccino', 'Tall Nonfat Milk', '60', '0.1', '0.1', '0', '5', '70', '9', '0', '8', '6', '10%', '0%', '20%', '0%', '75']\n",
      "['Classic Espresso Drinks', 'Cappuccino', '2% Milk', '90', '3.5', '1.5', '0.1', '15', '80', '9', '0', '8', '6', '10%', '0%', '20%', '0%', '75']\n",
      "['Classic Espresso Drinks', 'Cappuccino', 'Soymilk', '70', '3', '0.4', '0', '0', '65', '7', '1', '4', '5', '6%', '0%', '20%', '8%', '75']\n",
      "['Classic Espresso Drinks', 'Cappuccino', 'Grande Nonfat Milk', '80', '0.2', '0.1', '0', '5', '90', '12', '0', '10', '8', '15%', '0%', '25%', '0%', '150']\n",
      "['Classic Espresso Drinks', 'Cappuccino', '2% Milk', '120', '4', '2', '0.1', '15', '100', '12', '0', '10', '8', '10%', '0%', '25%', '0%', '150']\n",
      "['Classic Espresso Drinks', 'Cappuccino', 'Soymilk', '100', '3.5', '0.4', '0', '0', '80', '9', '1', '5', '7', '8%', '0%', '25%', '10%', '150']\n",
      "['Classic Espresso Drinks', 'Cappuccino', 'Venti Nonfat Milk', '110', '0.2', '0.2', '0', '5', '120', '16', '0', '14', '10', '20%', '0%', '30%', '0%', '150']\n",
      "['Classic Espresso Drinks', 'Cappuccino', '2% Milk', '150', '6', '3', '0.2', '25', '135', '16', '0', '14', '10', '15%', '0%', '30%', '0%', '150']\n",
      "['Classic Espresso Drinks', 'Cappuccino', 'Soymilk', '120', '4.5', '0.5', '0', '0', '110', '11', '1', '7', '9', '10%', '0%', '35%', '15%', '150']\n",
      "['Classic Espresso Drinks', 'Espresso', 'Solo', '5', '0', '0', '0', '0', '0', '1', '0', '0', '0.4', '0%', '0%', '0%', '0%', '75']\n",
      "['Classic Espresso Drinks', 'Espresso', 'Doppio', '10', '0', '0', '0', '0', '1', '2', '0', '0', '1', '0%', '0%', '0%', '0%', '150']\n",
      "['Classic Espresso Drinks', 'Skinny Latte (Any Flavour)', 'Short Nonfat Milk', '60', '0.1', '0.1', '0', '5', '80', '9', '0', '8', '6', '10%', '0%', '20%', '0%', '75']\n",
      "['Classic Espresso Drinks', 'Skinny Latte (Any Flavour)', 'Tall Nonfat Milk', '100', '0.2', '0.1', '0', '5', '125', '14', '0', '13', '9', '15%', '0%', '30%', '0%', '75']\n",
      "['Classic Espresso Drinks', 'Skinny Latte (Any Flavour)', 'Grande Nonfat Milk', '120', '0.3', '0.2', '0', '5', '160', '18', '0', '16', '12', '20%', '0%', '35%', '0%', '150']\n",
      "['Classic Espresso Drinks', 'Skinny Latte (Any Flavour)', 'Venti Nonfat Milk', '160', '0.3', '0.2', '0', '10', '200', '24', '0', '21', '15', '25%', '0%', '50%', '0%', '150']\n",
      "['Signature Espresso Drinks', 'Caramel Macchiato', 'Short Nonfat Milk', '100', '1', '0.5', '0', '5', '70', '17', '0', '15', '6', '10%', '0%', '15%', '0%', '75']\n",
      "['Signature Espresso Drinks', 'Caramel Macchiato', '2% Milk', '120', '4', '2', '0.1', '15', '80', '16', '0', '15', '5', '10%', '0%', '15%', '0%', '75']\n",
      "['Signature Espresso Drinks', 'Caramel Macchiato', 'Soymilk', '100', '3', '1', '0', '0', '60', '14', '1', '11', '4', '6%', '0%', '15%', '8%', '75']\n",
      "['Signature Espresso Drinks', 'Caramel Macchiato', 'Tall Nonfat Milk', '140', '1', '0.5', '0', '5', '105', '25', '0', '24', '8', '15%', '0%', '25%', '0%', '75']\n",
      "['Signature Espresso Drinks', 'Caramel Macchiato', '2% Milk', '180', '5', '3', '0.1', '20', '115', '25', '0', '23', '8', '15%', '0%', '25%', '0%', '75']\n",
      "['Signature Espresso Drinks', 'Caramel Macchiato', 'Soymilk', '150', '4.5', '1', '0', '0', '90', '21', '1', '17', '7', '10%', '0%', '25%', '10%', '75']\n",
      "['Signature Espresso Drinks', 'Caramel Macchiato', 'Grande Nonfat Milk', '190', '1', '1', '0', '10', '130', '35', '0', '32', '11', '20%', '0%', '35%', '0%', '150']\n",
      "['Signature Espresso Drinks', 'Caramel Macchiato', '2% Milk', '240', '7', '3.5', '0.2', '25', '150', '34', '0', '32', '10', '15%', '2%', '30%', '0%', '150']\n",
      "['Signature Espresso Drinks', 'Caramel Macchiato', 'Soymilk', '200', '5', '1', '0', '5', '115', '29', '1', '24', '9', '10%', '0%', '35%', '15%', '150']\n",
      "['Signature Espresso Drinks', 'Caramel Macchiato', 'Venti Nonfat Milk', '240', '1', '1', '0', '10', '170', '43', '0', '41', '13', '25%', '0%', '40%', '0%', '150']\n",
      "['Signature Espresso Drinks', 'Caramel Macchiato', '2% Milk', '300', '8', '4.5', '0.2', '35', '180', '43', '0', '40', '13', '20%', '2%', '40%', '0%', '150']\n",
      "['Signature Espresso Drinks', 'Caramel Macchiato', 'Soymilk', '250', '7', '1.5', '0', '5', '140', '36', '1', '31', '11', '15%', '0%', '40%', '20%', '150']\n",
      "['Signature Espresso Drinks', 'White Chocolate Mocha (Without Whipped Cream)', 'Short Nonfat Milk', '180', '3', '2', '0', '5', '120', '31', '0', '29', '7', '10%', '0%', '25%', '0%', '75']\n",
      "['Signature Espresso Drinks', 'White Chocolate Mocha (Without Whipped Cream)', '2% Milk', '200', '6', '3.5', '0.1', '15', '125', '31', '0', '29', '7', '8%', '2%', '25%', '0%', '75']\n",
      "['Signature Espresso Drinks', 'White Chocolate Mocha (Without Whipped Cream)', 'Soymilk', '180', '5', '2.5', '0', '0', '110', '28', '1', '25', '6', '6%', '0%', '25%', '8%', '75']\n",
      "['Signature Espresso Drinks', 'White Chocolate Mocha (Without Whipped Cream)', 'Tall Nonfat Milk', '270', '4.5', '3.5', '0', '5', '190', '47', '0', '45', '12', '15%', '2%', '35%', '0%', '75']\n",
      "['Signature Espresso Drinks', 'White Chocolate Mocha (Without Whipped Cream)', '2% Milk', '310', '9', '6', '0.1', '20', '200', '46', '0', '44', '11', '15%', '2%', '35%', '0%', '75']\n",
      "['Signature Espresso Drinks', 'White Chocolate Mocha (Without Whipped Cream)', 'Soymilk', '280', '8', '3.5', '0', '0', '170', '42', '1', '39', '10', '10%', '2%', '35%', '10%', '75']\n",
      "['Signature Espresso Drinks', 'White Chocolate Mocha (Without Whipped Cream)', 'Grande Nonfat Milk', '350', '6', '4.5', '0', '10', '240', '61', '0', '58', '15', '20%', '2%', '45%', '2%', '150']\n",
      "['Signature Espresso Drinks', 'White Chocolate Mocha (Without Whipped Cream)', '2% Milk', '400', '11', '7', '0.2', '25', '250', '61', '0', '58', '15', '15%', '2%', '45%', '0%', '150']\n",
      "['Signature Espresso Drinks', 'White Chocolate Mocha (Without Whipped Cream)', 'Soymilk', '370', '10', '5', '0', '0', '220', '56', '1', '51', '13', '10%', '2%', '45%', '15%', '150']\n",
      "['Signature Espresso Drinks', 'White Chocolate Mocha (Without Whipped Cream)', 'Venti Nonfat Milk', '450', '7', '6', '0', '10', '310', '78', '0', '74', '19', '25%', '2%', '60%', '2%', '150']\n",
      "['Signature Espresso Drinks', 'White Chocolate Mocha (Without Whipped Cream)', '2% Milk', '510', '15', '9', '0.2', '35', '330', '77', '0', '74', '19', '20%', '4%', '60%', '2%', '150']\n",
      "['Signature Espresso Drinks', 'White Chocolate Mocha (Without Whipped Cream)', 'Soymilk', '460', '13', '6', '0', '5', '290', '70', '1', '64', '16', '15%', '2%', '60%', '20%', '150']\n",
      "['Signature Espresso Drinks', 'Hot Chocolate (Without Whipped Cream)', 'Short Nonfat Milk', '130', '1.5', '1', '0', '5', '70', '26', '1', '23', '7', '10%', '0%', '20%', '10%', '10']\n",
      "['Signature Espresso Drinks', 'Hot Chocolate (Without Whipped Cream)', '2% Milk', '150', '4.5', '2.5', '0.1', '15', '80', '26', '1', '22', '7', '10%', '0%', '20%', '10%', '10']\n",
      "['Signature Espresso Drinks', 'Hot Chocolate (Without Whipped Cream)', 'Soymilk', '130', '3.5', '1', '0', '0', '60', '23', '2', '18', '6', '6%', '0%', '20%', '20%', '10']\n",
      "['Signature Espresso Drinks', 'Hot Chocolate (Without Whipped Cream)', 'Tall Nonfat Milk', '190', '2', '1', '0', '5', '110', '37', '1', '32', '11', '15%', '0%', '30%', '20%', '20']\n",
      "['Signature Espresso Drinks', 'Hot Chocolate (Without Whipped Cream)', '2% Milk', '230', '7', '3.5', '0.2', '20', '120', '37', '1', '32', '10', '15%', '0%', '30%', '20%', '20']\n",
      "['Signature Espresso Drinks', 'Hot Chocolate (Without Whipped Cream)', 'Soymilk', '200', '6', '1.5', '0', '0', '95', '32', '2', '25', '9', '10%', '0%', '30%', '30%', '20']\n",
      "['Signature Espresso Drinks', 'Hot Chocolate (Without Whipped Cream)', 'Grande Nonfat Milk', '240', '2.5', '1.5', '0', '5', '140', '48', '2', '41', '14', '20%', '0%', '40%', '25%', '25']\n",
      "['Signature Espresso Drinks', 'Hot Chocolate (Without Whipped Cream)', '2% Milk', '290', '9', '5', '0.2', '25', '160', '47', '2', '41', '14', '20%', '2%', '40%', '25%', '25']\n",
      "['Signature Espresso Drinks', 'Hot Chocolate (Without Whipped Cream)', 'Soymilk', '250', '7', '2', '0', '0', '125', '41', '3', '32', '12', '15%', '0%', '40%', '40%', '25']\n",
      "['Signature Espresso Drinks', 'Hot Chocolate (Without Whipped Cream)', 'Venti Nonfat Milk', '320', '3', '2', '0', '10', '180', '63', '2', '55', '18', '25%', '0%', '50%', '30%', '30']\n",
      "['Signature Espresso Drinks', 'Hot Chocolate (Without Whipped Cream)', '2% Milk', '380', '11', '6', '0.3', '35', '200', '63', '2', '54', '17', '25%', '2%', '50%', '30%', '30']\n",
      "['Signature Espresso Drinks', 'Hot Chocolate (Without Whipped Cream)', 'Soymilk', '330', '9', '2.5', '0', '0', '160', '55', '4', '44', '15', '15%', '0%', '50%', '50%', '30']\n",
      "['Signature Espresso Drinks', 'Caramel Apple Spice (Without Whipped Cream)', 'Short', '140', '0', '0', '0', '0', '10', '35', '0', '33', '0', '0%', '0%', '0%', '0%', '0']\n",
      "['Signature Espresso Drinks', 'Caramel Apple Spice (Without Whipped Cream)', 'Tall', '210', '0', '0', '0', '0', '15', '53', '0', '49', '0', '0%', '0%', '0%', '0%', '0']\n",
      "['Signature Espresso Drinks', 'Caramel Apple Spice (Without Whipped Cream)', 'Grande', '280', '0', '0', '0', '0', '20', '70', '0', '65', '0', '0%', '0%', '0%', '0%', '0']\n",
      "['Signature Espresso Drinks', 'Caramel Apple Spice (Without Whipped Cream)', 'Venti', '360', '0', '0', '0', '0', '25', '89', '0', '83', '0', '0%', '0%', '0%', '0%', '0']\n",
      "['Tazo® Tea Drinks', 'Tazo® Tea', 'Short', '0', '0', '0', '0', '0', '0', '0', '0', '0', '0', '0%', '0%', '0%', '0%', 'Varies']\n",
      "['Tazo® Tea Drinks', 'Tazo® Tea', 'Tall', '0', '0', '0', '0', '0', '0', '0', '0', '0', '0', '0%', '0%', '0%', '0%', 'Varies']\n",
      "['Tazo® Tea Drinks', 'Tazo® Tea', 'Grande', '0', '0', '0', '0', '0', '0', '0', '0', '0', '0', '0%', '0%', '0%', '0%', 'Varies']\n",
      "['Tazo® Tea Drinks', 'Tazo® Tea', 'Venti', '0', '0', '0', '0', '0', '0', '0', '0', '0', '0', '0%', '0%', '0%', '0%', 'Varies']\n",
      "['Tazo® Tea Drinks', 'Tazo® Chai Tea Latte', 'Short Nonfat Milk', '100', '0.1', '0.1', '0', '0', '50', '22', '0', '21', '4', '6%', '0%', '10%', '0%', '50']\n",
      "['Tazo® Tea Drinks', 'Tazo® Chai Tea Latte', '2% Milk', '120', '2', '1', '0.1', '10', '55', '22', '0', '21', '4', '6%', '0%', '10%', '0%', '50']\n",
      "['Tazo® Tea Drinks', 'Tazo® Chai Tea Latte', 'Soymilk', '110', '1.5', '0.2', '0', '0', '45', '20', '0', '18', '3', '4%', '0%', '10%', '6%', '50']\n",
      "['Tazo® Tea Drinks', 'Tazo® Chai Tea Latte', 'Tall Nonfat Milk', '160', '0.2', '0.1', '0', '5', '80', '34', '0', '32', '6', '10%', '0%', '20%', '2%', '70']\n",
      "['Tazo® Tea Drinks', 'Tazo® Chai Tea Latte', '2% Milk', '190', '3.5', '1.5', '0.1', '15', '90', '34', '0', '32', '6', '10%', '0%', '20%', '2%', '70']\n",
      "['Tazo® Tea Drinks', 'Tazo® Chai Tea Latte', 'Soymilk', '160', '2.5', '0.3', '0', '0', '70', '31', '1', '28', '5', '6%', '0%', '20%', '10%', '70']\n",
      "['Tazo® Tea Drinks', 'Tazo® Chai Tea Latte', 'Grande Nonfat Milk', '210', '0.2', '0.1', '0', '5', '105', '45', '0', '43', '8', '15%', '0%', '25%', '2%', '95']\n",
      "['Tazo® Tea Drinks', 'Tazo® Chai Tea Latte', '2% Milk', '240', '4.5', '2', '0.1', '20', '115', '45', '0', '42', '8', '10%', '0%', '25%', '2%', '95']\n",
      "['Tazo® Tea Drinks', 'Tazo® Chai Tea Latte', 'Soymilk', '220', '3.5', '0.4', '0', '0', '90', '41', '1', '37', '6', '8%', '0%', '25%', '10%', '95']\n",
      "['Tazo® Tea Drinks', 'Tazo® Chai Tea Latte', 'Venti Nonfat Milk', '260', '0.3', '0.2', '0', '5', '135', '57', '0', '54', '10', '15%', '0%', '35%', '2%', '120']\n",
      "['Tazo® Tea Drinks', 'Tazo® Chai Tea Latte', '2% Milk', '310', '6', '3', '0.2', '25', '150', '56', '0', '53', '10', '15%', '2%', '30%', '2%', '120']\n",
      "['Tazo® Tea Drinks', 'Tazo® Chai Tea Latte', 'Soymilk', '280', '4.5', '0.5', '0', '0', '115', '51', '1', '46', '8', '10%', '0%', '30%', '15%', '120']\n",
      "['Tazo® Tea Drinks', 'Tazo® Green Tea Latte', 'Short Nonfat Milk', '130', '0.2', '0.1', '0', '5', '85', '26', '0', '25', '7', '10%', '4%', '20%', '2%', '25']\n",
      "['Tazo® Tea Drinks', 'Tazo® Green Tea Latte', '2% Milk', '170', '4', '2', '0.1', '15', '95', '26', '0', '25', '7', '10%', '6%', '20%', '2%', '25']\n",
      "['Tazo® Tea Drinks', 'Tazo® Green Tea Latte', 'Soymilk', '140', '3', '0.4', '0', '0', '70', '22', '1', '20', '6', '8%', '4%', '20%', '10%', '25']\n",
      "['Tazo® Tea Drinks', 'Tazo® Green Tea Latte', 'Tall Nonfat Milk', '210', '0.4', '0.2', '0', '5', '125', '42', '1', '41', '11', '20%', '10%', '35%', '4%', '55']\n",
      "['Tazo® Tea Drinks', 'Tazo® Green Tea Latte', '2% Milk', '260', '6', '3', '0.2', '25', '140', '41', '1', '40', '10', '15%', '10%', '35%', '4%', '55']\n",
      "['Tazo® Tea Drinks', 'Tazo® Green Tea Latte', 'Soymilk', '230', '4.5', '0.5', '0', '0', '110', '36', '2', '33', '9', '10%', '10%', '35%', '15%', '55']\n",
      "['Tazo® Tea Drinks', 'Tazo® Green Tea Latte', 'Grande Nonfat Milk', '290', '0.5', '0.2', '0', '10', '160', '57', '1', '56', '14', '25%', '15%', '45%', '4%', '80']\n",
      "['Tazo® Tea Drinks', 'Tazo® Green Tea Latte', '2% Milk', '350', '8', '4', '0.2', '30', '180', '57', '1', '55', '14', '20%', '15%', '45%', '4%', '80']\n",
      "['Tazo® Tea Drinks', 'Tazo® Green Tea Latte', 'Soymilk', '310', '6', '1', '0', '0', '140', '50', '3', '46', '11', '15%', '15%', '45%', '25%', '80']\n",
      "['Tazo® Tea Drinks', 'Tazo® Green Tea Latte', 'Venti Nonfat Milk', '370', '0.5', '0.3', '0', '10', '200', '73', '2', '71', '18', '30%', '20%', '60%', '6%', '110']\n",
      "['Tazo® Tea Drinks', 'Tazo® Green Tea Latte', '2% Milk', '450', '10', '5', '0.3', '40', '230', '72', '2', '71', '17', '25%', '20%', '50%', '6%', '110']\n",
      "['Tazo® Tea Drinks', 'Tazo® Green Tea Latte', 'Soymilk', '390', '8', '1', '0', '0', '180', '64', '4', '58', '14', '20%', '20%', '60%', '30%', '110']\n",
      "['Tazo® Tea Drinks', 'Tazo® Full-Leaf Tea Latte', 'Short Nonfat Milk', '80', '0.1', '0.1', '0', '0', '45', '16', '0', '16', '4', '6%', '0%', '10%', '0.00%', 'varies']\n",
      "['Tazo® Tea Drinks', 'Tazo® Full-Leaf Tea Latte', '2% Milk', '90', '2', '1', '0.1', '10', '50', '15', '0', '15', '3', '6%', '0%', '10%', '0.00%', 'varies']\n",
      "['Tazo® Tea Drinks', 'Tazo® Full-Leaf Tea Latte', 'Soymilk', '80', '1.5', '0.2', '0', '0', '40', '14', '0', '13', '3', '4%', '0%', '10%', '6.00%', 'varies']\n",
      "['Tazo® Tea Drinks', 'Tazo® Full-Leaf Tea Latte', 'Tall Nonfat Milk', '120', '0.1', '0.1', '0', '5', '65', '23', '0', '23', '5', '10%', '0%', '20%', '0.00%', 'varies']\n",
      "['Tazo® Tea Drinks', 'Tazo® Full-Leaf Tea Latte', '2% Milk', '140', '3', '1.5', '0.1', '15', '75', '23', '0', '23', '5', '8%', '0%', '15%', '0.00%', 'varies']\n",
      "['Tazo® Tea Drinks', 'Tazo® Full-Leaf Tea Latte', 'Soymilk', '130', '2.5', '0.3', '0', '0', '60', '21', '1', '19', '4', '6%', '0%', '20%', '8.00%', 'varies']\n",
      "['Tazo® Tea Drinks', 'Tazo® Full-Leaf Tea Latte', 'Grande Nonfat Milk', '150', '0.2', '0.1', '0', '5', '85', '31', '0', '31', '7', '15%', '0%', '25%', '0.00%', 'varies']\n",
      "['Tazo® Tea Drinks', 'Tazo® Full-Leaf Tea Latte', '2% Milk', '190', '4', '2', '0.1', '15', '95', '31', '0', '30', '7', '10%', '0%', '25%', '0.00%', 'varies']\n",
      "['Tazo® Tea Drinks', 'Tazo® Full-Leaf Tea Latte', 'Soymilk', '170', '3.5', '0.4', '0', '0', '80', '27', '1', '25', '6', '8%', '0%', '25%', '10.00%', 'varies']\n",
      "['Tazo® Tea Drinks', 'Tazo® Full-Leaf Tea Latte', 'Venti Nonfat Milk', '190', '0.2', '0.1', '0', '5', '110', '39', '0', '39', '9', '15%', '0%', '30%', '0.00%', 'varies']\n",
      "['Tazo® Tea Drinks', 'Tazo® Full-Leaf Tea Latte', '2% Milk', '230', '5', '2.5', '0.2', '20', '125', '38', '0', '38', '9', '15%', '0%', '30%', '0.00%', 'varies']\n",
      "['Tazo® Tea Drinks', 'Tazo® Full-Leaf Tea Latte', 'Soymilk', '210', '4', '0.5', '0', '0', '100', '34', '1', '32', '7', '10%', '0%', '30%', '15.00%', 'varies']\n",
      "['Tazo® Tea Drinks', 'Tazo® Full-Leaf Red Tea Latte (Vanilla Rooibos)', 'Short Nonfat Milk', '80', '0.1', '0.1', '0', '0', '45', '16', '0', '16', '4', '6%', '0%', '10%', '0%', '0']\n",
      "['Tazo® Tea Drinks', 'Tazo® Full-Leaf Red Tea Latte (Vanilla Rooibos)', '2% Milk', '90', '2', '1', '0.1', '10', '50', '15', '0', '15', '3', '6%', '0%', '10%', '0%', '0']\n",
      "['Tazo® Tea Drinks', 'Tazo® Full-Leaf Red Tea Latte (Vanilla Rooibos)', 'Soymilk', '80', '1.5', '0.2', '0', '0', '40', '14', '0', '13', '3', '4%', '0%', '10%', '6%', '0']\n",
      "['Tazo® Tea Drinks', 'Tazo® Full-Leaf Red Tea Latte (Vanilla Rooibos)', 'Tall Nonfat Milk', '120', '0.1', '0.1', '0', '5', '65', '23', '0', '23', '5', '10%', '0%', '20%', '0%', '0']\n",
      "['Tazo® Tea Drinks', 'Tazo® Full-Leaf Red Tea Latte (Vanilla Rooibos)', '2% Milk', '140', '3', '1.5', '0.1', '15', '75', '23', '0', '23', '5', '8%', '0%', '15%', '0%', '0']\n",
      "['Tazo® Tea Drinks', 'Tazo® Full-Leaf Red Tea Latte (Vanilla Rooibos)', 'Soymilk', '130', '2.5', '0.3', '0', '0', '60', '21', '1', '19', '4', '6%', '0%', '20%', '8%', '0']\n",
      "['Tazo® Tea Drinks', 'Tazo® Full-Leaf Red Tea Latte (Vanilla Rooibos)', 'Grande Nonfat Milk', '150', '0.2', '0.1', '0', '5', '85', '31', '0', '31', '7', '15%', '0%', '25%', '0%', '0']\n",
      "['Tazo® Tea Drinks', 'Tazo® Full-Leaf Red Tea Latte (Vanilla Rooibos)', '2% Milk', '190', '4', '2', '0.1', '15', '95', '31', '0', '30', '7', '10%', '0%', '25%', '0%', '0']\n",
      "['Tazo® Tea Drinks', 'Tazo® Full-Leaf Red Tea Latte (Vanilla Rooibos)', 'Soymilk', '170', '3.5', '0.4', '0', '0', '80', '27', '1', '25', '6', '8%', '0%', '25%', '10%', '0']\n",
      "['Tazo® Tea Drinks', 'Tazo® Full-Leaf Red Tea Latte (Vanilla Rooibos)', 'Venti Nonfat Milk', '190', '0.2', '0.1', '0', '5', '110', '39', '0', '39', '9', '15%', '0%', '30%', '0%', '0']\n",
      "['Tazo® Tea Drinks', 'Tazo® Full-Leaf Red Tea Latte (Vanilla Rooibos)', '2% Milk', '230', '5', '2.5', '0.2', '20', '125', '38', '0', '38', '9', '15%', '0%', '30%', '0%', '0']\n",
      "['Tazo® Tea Drinks', 'Tazo® Full-Leaf Red Tea Latte (Vanilla Rooibos)', 'Soymilk', '210', '4', '0.5', '0', '0', '100', '34', '1', '32', '7', '10%', '0%', '30%', '15%', '0']\n",
      "['Shaken Iced Beverages', 'Iced Brewed Coffee (With Classic Syrup)', 'Tall', '60', '0', '0', '0', '0', '4', '15', '0', '15', '0.2', '0%', '0%', '0%', '0%', '120']\n",
      "['Shaken Iced Beverages', 'Iced Brewed Coffee (With Classic Syrup)', 'Grande', '90', '0.1', '0', '0', '0', '5', '21', '0', '21', '0.3', '0%', '0%', '0%', '0%', '165']\n",
      "['Shaken Iced Beverages', 'Iced Brewed Coffee (With Classic Syrup)', 'Venti', '130', '0.1', '0', '0', '0', '5', '31', '0', '31', '0.4', '0%', '0%', '0%', '0%', '235']\n",
      "['Shaken Iced Beverages', 'Iced Brewed Coffee (With Milk & Classic Syrup)', 'Tall Nonfat Milk', '80', '0.1', '0', '0', '0', '25', '18', '0', '18', '2', '2%', '0%', '6%', '0%', '90']\n",
      "['Shaken Iced Beverages', 'Iced Brewed Coffee (With Milk & Classic Syrup)', '2% Milk', '90', '1', '0.5', '0', '5', '25', '18', '0', '18', '2', '2%', '0%', '6%', '0.00%', '']\n",
      "['Shaken Iced Beverages', 'Iced Brewed Coffee (With Milk & Classic Syrup)', 'Soymilk', '80', '1', '0.1', '0', '0', '20', '17', '0', '17', '2', '2%', '0%', '6%', '0%', '90']\n",
      "['Shaken Iced Beverages', 'Iced Brewed Coffee (With Milk & Classic Syrup)', 'Grande Nonfat Milk', '110', '0.1', '0', '0', '0', '30', '24', '0', '24', '2', '4%', '0%', '8%', '2%', '90']\n",
      "['Shaken Iced Beverages', 'Iced Brewed Coffee (With Milk & Classic Syrup)', '2% Milk', '120', '1.5', '0.5', '0', '5', '35', '24', '0', '24', '2', '4%', '0%', '8%', '0%', '125']\n",
      "['Shaken Iced Beverages', 'Iced Brewed Coffee (With Milk & Classic Syrup)', 'Soymilk', '110', '1', '0.1', '0', '0', '30', '23', '0', '22', '2', '2%', '0%', '8%', '0%', '125']\n",
      "['Shaken Iced Beverages', 'Iced Brewed Coffee (With Milk & Classic Syrup)', 'Venti Nonfat Milk', '160', '0.1', '0.1', '0', '0', '50', '36', '0', '36', '4', '6%', '0%', '10%', '4%', '125']\n",
      "['Shaken Iced Beverages', 'Iced Brewed Coffee (With Milk & Classic Syrup)', '2% Milk', '180', '2', '1', '0.1', '10', '55', '36', '0', '36', '4', '6%', '0%', '10%', '0%', '170']\n",
      "['Shaken Iced Beverages', 'Iced Brewed Coffee (With Milk & Classic Syrup)', 'Soymilk', '170', '1.5', '0.2', '0', '0', '45', '34', '0', '33', '3', '4%', '0%', '10%', '0%', '170']\n",
      "['Shaken Iced Beverages', 'Shaken Iced Tazo® Tea (With Classic Syrup)', 'Tall', '60', '0', '0', '0', '0', '0', '15', '0', '15', '0', '0%', '0%', '0%', '6%', '170']\n",
      "['Shaken Iced Beverages', 'Shaken Iced Tazo® Tea (With Classic Syrup)', 'Grande', '80', '0', '0', '0', '0', '0', '21', '0', '21', '0', '0%', '0%', '0%', '0%', 'Varies']\n",
      "['Shaken Iced Beverages', 'Shaken Iced Tazo® Tea (With Classic Syrup)', 'Venti', '120', '0', '0', '0', '0', '0', '31', '0', '31', '0', '0%', '0%', '0%', '0%', 'Varies']\n",
      "['Shaken Iced Beverages', 'Shaken Iced Tazo® Tea Lemonade (With Classic Syrup)', 'Tall', '100', '0', '0', '0', '0', '0', '25', '0', '24', '0.1', '0%', '10%', '0%', '0%', 'Varies']\n",
      "['Shaken Iced Beverages', 'Shaken Iced Tazo® Tea Lemonade (With Classic Syrup)', 'Grande', '130', '0', '0', '0', '0', '0', '33', '0', '33', '0.1', '0%', '15%', '0%', '0%', 'Varies']\n",
      "['Shaken Iced Beverages', 'Shaken Iced Tazo® Tea Lemonade (With Classic Syrup)', 'Venti', '190', '0', '0', '0', '0', '0', '49', '0', '49', '0.1', '0%', '20%', '0%', '0%', 'Varies']\n",
      "['Smoothies', 'Banana Chocolate Smoothie', 'Grande Nonfat Milk', '280', '2.5', '1.5', '0', '5', '150', '53', '7', '34', '20', '10%', '15%', '20%', '0%', 'Varies']\n",
      "['Smoothies', 'Banana Chocolate Smoothie', '2% Milk', '300', '5', '2.5', '0.1', '15', '160', '53', '7', '34', '20', '8%', '15%', '20%', '20%', '15']\n",
      "['Smoothies', 'Banana Chocolate Smoothie', 'Soymilk', '290', '4.5', '1.5', '0', '5', '150', '51', '7', '31', '19', '6%', '15%', '20%', '20%', '15']\n",
      "['Smoothies', 'Orange Mango Banana Smoothie', 'Grande Nonfat Milk', '260', '1', '0.3', '0', '5', '120', '54', '6', '37', '16', '50%', '80%', '10%', '30%', '15']\n",
      "['Smoothies', 'Orange Mango Banana Smoothie', '2% Milk', '270', '1.5', '0.5', '0', '5', '125', '53', '6', '37', '16', '50%', '80%', '10%', '6%', '0']\n",
      "['Smoothies', 'Orange Mango Banana Smoothie', 'Soymilk', '270', '1.5', '0.4', '0', '5', '120', '53', '6', '36', '15', '50%', '80%', '10%', '6%', '0']\n",
      "['Smoothies', 'Strawberry Banana Smoothie', 'Grande Nonfat Milk', '290', '1', '0.3', '0', '5', '125', '58', '7', '41', '16', '4%', '100%', '10%', '8%', '0']\n",
      "['Smoothies', 'Strawberry Banana Smoothie', '2% Milk', '290', '2', '1', '0', '5', '125', '58', '7', '41', '16', '4%', '100%', '10%', '8%', '0']\n",
      "['Smoothies', 'Strawberry Banana Smoothie', 'Soymilk', '290', '2', '0.4', '0', '5', '120', '58', '8', '40', '16', '2%', '100%', '10%', '8%', '0']\n",
      "['Frappuccino® Blended Coffee', 'Coffee', 'Tall Nonfat Milk', '160', '0.1', '0', '0', '0', '160', '36', '0', '36', '3', '4%', '0%', '10%', '10%', '0']\n",
      "['Frappuccino® Blended Coffee', 'Coffee', 'Whole Milk', '180', '2.5', '1.5', '0.1', '10', '160', '36', '0', '36', '3', '4%', '0%', '8%', '0%', '70']\n",
      "['Frappuccino® Blended Coffee', 'Coffee', 'Soymilk', '160', '1.5', '0.2', '0', '0', '150', '35', '0', '34', '2', '4%', '0%', '10%', '0%', '70']\n",
      "['Frappuccino® Blended Coffee', 'Coffee', 'Grande Nonfat Milk', '220', '0.1', '0.1', '0', '0', '210', '51', '0', '50', '4', '6%', '0%', '10%', '4%', '70']\n",
      "['Frappuccino® Blended Coffee', 'Coffee', 'Whole Milk', '240', '3', '2', '0.1', '10', '220', '50', '0', '50', '3', '4%', '0%', '10%', '0%', '95']\n",
      "['Frappuccino® Blended Coffee', 'Coffee', 'Soymilk', '220', '1.5', '0.2', '0', '0', '210', '49', '0', '47', '3', '4%', '0%', '10%', '0%', '95']\n",
      "['Frappuccino® Blended Coffee', 'Coffee', 'Venti Nonfat Milk', '310', '0.1', '0.1', '0', '5', '300', '70', '0', '69', '6', '10%', '0%', '20%', '6%', '95']\n",
      "['Frappuccino® Blended Coffee', 'Coffee', 'Whole Milk', '350', '5', '3', '0.2', '15', '300', '70', '0', '69', '5', '8%', '0%', '15%', '2%', '130']\n",
      "['Frappuccino® Blended Coffee', 'Coffee', 'Soymilk', '310', '2.5', '0.3', '0', '0', '300', '68', '1', '66', '5', '6%', '0%', '20%', '2%', '130']\n",
      "['Frappuccino® Blended Coffee', 'Mocha (Without Whipped Cream)', 'Tall Nonfat Milk', '180', '0.5', '0.4', '0', '0', '150', '42', '1', '40', '3', '4%', '0%', '10%', '8%', '130']\n",
      "['Frappuccino® Blended Coffee', 'Mocha (Without Whipped Cream)', 'Whole Milk', '200', '3', '2', '0.1', '10', '160', '42', '1', '40', '3', '4%', '0%', '8%', '6%', '70']\n",
      "['Frappuccino® Blended Coffee', 'Mocha (Without Whipped Cream)', 'Soymilk', '180', '2', '0.5', '0', '0', '150', '40', '1', '38', '3', '4%', '0%', '10%', '10%', '70']\n",
      "['Frappuccino® Blended Coffee', 'Mocha (Without Whipped Cream)', 'Grande Nonfat Milk', '260', '1', '0.5', '0', '0', '220', '61', '1', '58', '4', '6%', '0%', '10%', '8%', '110']\n",
      "['Frappuccino® Blended Coffee', 'Mocha (Without Whipped Cream)', 'Whole Milk', '290', '4', '2.5', '0.1', '10', '220', '61', '1', '58', '4', '4%', '0%', '10%', '8%', '110']\n",
      "['Frappuccino® Blended Coffee', 'Mocha (Without Whipped Cream)', 'Soymilk', '260', '2.5', '0.5', '0', '0', '220', '59', '1', '55', '4', '4%', '0%', '10%', '15%', '110']\n",
      "['Frappuccino® Blended Coffee', 'Mocha (Without Whipped Cream)', 'Venti Nonfat Milk', '340', '1', '0.5', '0', '5', '300', '80', '1', '76', '7', '10%', '0%', '15%', '10%', '140']\n",
      "['Frappuccino® Blended Coffee', 'Mocha (Without Whipped Cream)', 'Whole Milk', '390', '6', '3.5', '0.1', '15', '300', '80', '1', '76', '6', '8%', '0%', '15%', '10%', '140']\n",
      "['Frappuccino® Blended Coffee', 'Mocha (Without Whipped Cream)', 'Soymilk', '350', '3', '1', '0', '0', '290', '78', '2', '73', '6', '6%', '0%', '20%', '20%', '140']\n",
      "['Frappuccino® Blended Coffee', 'Caramel (Without Whipped Cream)', 'Tall Nonfat Milk', '180', '0.1', '0', '0', '0', '160', '42', '0', '41', '3', '4%', '0%', '10%', '0%', '70']\n",
      "['Frappuccino® Blended Coffee', 'Caramel (Without Whipped Cream)', 'Whole Milk', '200', '2.5', '1.5', '0.1', '10', '160', '42', '0', '41', '3', '4%', '0%', '8%', '0%', '70']\n",
      "['Frappuccino® Blended Coffee', 'Caramel (Without Whipped Cream)', 'Soymilk', '180', '1.5', '0.2', '0', '0', '150', '40', '0', '39', '2', '4%', '0%', '10%', '4%', '70']\n",
      "['Frappuccino® Blended Coffee', 'Caramel (Without Whipped Cream)', 'Grande Nonfat Milk', '280', '0.1', '0.1', '0', '0', '220', '60', '0', '59', '4', '6%', '0%', '10%', '0%', '100']\n",
      "['Frappuccino® Blended Coffee', 'Caramel (Without Whipped Cream)', 'Whole Milk', '280', '3.5', '2', '0.1', '10', '220', '60', '0', '59', '3', '4%', '0%', '10%', '0%', '100']\n",
      "['Frappuccino® Blended Coffee', 'Caramel (Without Whipped Cream)', 'Soymilk', '260', '1.5', '0.2', '0', '0', '220', '58', '0', '56', '3', '4%', '0%', '10%', '6%', '100']\n",
      "['Frappuccino® Blended Coffee', 'Caramel (Without Whipped Cream)', 'Venti Nonfat Milk', '330', '0.1', '0.1', '0', '5', '290', '78', '0', '77', '5', '10%', '0%', '15%', '2%', '130']\n",
      "['Frappuccino® Blended Coffee', 'Caramel (Without Whipped Cream)', 'Whole Milk', '370', '5', '3', '0.1', '15', '300', '78', '0', '77', '5', '8%', '0%', '15%', '2%', '130']\n",
      "['Frappuccino® Blended Coffee', 'Caramel (Without Whipped Cream)', 'Soymilk', '340', '2.5', '0.3', '0', '0', '290', '75', '1', '73', '5', '6%', '0%', '20%', '8%', '130']\n",
      "['Frappuccino® Blended Coffee', 'Java Chip (Without Whipped Cream)', 'Tall Nonfat Milk', '220', '3', '2', '0', '0', '170', '47', '1', '44', '4', '4%', '0%', '10%', '20%', '75']\n",
      "['Frappuccino® Blended Coffee', 'Java Chip (Without Whipped Cream)', 'Whole Milk', '240', '5', '3.5', '0.1', '10', '170', '47', '1', '44', '4', '4%', '0%', '8%', '20%', '75']\n",
      "['Frappuccino® Blended Coffee', 'Java Chip (Without Whipped Cream)', 'Soymilk', '220', '4', '2.5', '0', '0', '170', '45', '1', '42', '3', '4%', '0%', '10%', '20%', '75']\n",
      "['Frappuccino® Blended Coffee', 'Java Chip (Without Whipped Cream)', 'Grande Nonfat Milk', '310', '4', '3', '0', '0', '250', '67', '2', '62', '5', '6%', '0%', '10%', '25%', '110']\n",
      "['Frappuccino® Blended Coffee', 'Java Chip (Without Whipped Cream)', 'Whole Milk', '340', '7', '5', '0.1', '10', '250', '67', '2', '62', '5', '4%', '0%', '10%', '25%', '110']\n",
      "['Frappuccino® Blended Coffee', 'Java Chip (Without Whipped Cream)', 'Soymilk', '310', '6', '3.5', '0', '0', '240', '65', '2', '60', '4', '4%', '0%', '10%', '30%', '110']\n",
      "['Frappuccino® Blended Coffee', 'Java Chip (Without Whipped Cream)', 'Venti Nonfat Milk', '420', '5', '4', '0', '5', '340', '90', '2', '84', '7', '10%', '0%', '20%', '35%', '145']\n",
      "['Frappuccino® Blended Coffee', 'Java Chip (Without Whipped Cream)', 'Whole Milk', '460', '10', '7', '0.2', '15', '340', '90', '2', '84', '7', '6%', '0%', '15%', '35%', '145']\n",
      "['Frappuccino® Blended Coffee', 'Java Chip (Without Whipped Cream)', 'Soymilk', '430', '8', '4.5', '0', '0', '330', '88', '3', '80', '6', '6%', '0%', '20%', '40%', '145']\n",
      "['Frappuccino® Light Blended Coffee', 'Coffee', 'Tall Nonfat Milk', '90', '0.1', '0', '0', '0', '160', '20', '0', '19', '3', '4%', '0%', '10%', '0%', '70']\n",
      "['Frappuccino® Light Blended Coffee', 'Coffee', 'Grande Nonfat Milk', '120', '0.1', '0.1', '0', '0', '210', '26', '0', '26', '3', '6%', '0%', '10%', '0%', '95']\n",
      "['Frappuccino® Light Blended Coffee', 'Coffee', 'Venti Nonfat Milk', '160', '0.1', '0.1', '0', '5', '270', '34', '0', '33', '5', '8%', '0%', '15%', '2%', '120']\n",
      "['Frappuccino® Light Blended Coffee', 'Mocha', 'Tall Nonfat Milk', '110', '0.5', '0.4', '0', '0', '150', '24', '1', '23', '3', '4%', '0%', '8%', '6%', '70']\n",
      "['Frappuccino® Light Blended Coffee', 'Mocha', 'Grande Nonfat Milk', '150', '1', '0.5', '0', '0', '200', '33', '1', '30', '4', '6%', '0%', '10%', '8%', '95']\n",
      "['Frappuccino® Light Blended Coffee', 'Mocha', 'Venti Nonfat Milk', '210', '1', '0.5', '0', '5', '280', '46', '1', '42', '6', '8%', '0%', '15%', '10%', '130']\n",
      "['Frappuccino® Light Blended Coffee', 'Caramel', 'Tall Nonfat Milk', '100', '0.1', '0', '0', '0', '140', '23', '0', '23', '3', '4%', '0%', '8%', '0%', '65']\n",
      "['Frappuccino® Light Blended Coffee', 'Caramel', 'Grande Nonfat Milk', '150', '0.1', '0.1', '0', '0', '200', '33', '0', '32', '3', '6%', '0%', '10%', '0%', '90']\n",
      "['Frappuccino® Light Blended Coffee', 'Caramel', 'Venti Nonfat Milk', '200', '0.1', '0.1', '0', '5', '270', '44', '0', '43', '5', '8%', '0%', '15%', '2%', '120']\n",
      "['Frappuccino® Light Blended Coffee', 'Java Chip', 'Tall Nonfat Milk', '150', '3', '2', '0', '0', '170', '30', '1', '27', '4', '4%', '0%', '10%', '20%', '70']\n",
      "['Frappuccino® Light Blended Coffee', 'Java Chip', 'Grande Nonfat Milk', '220', '4', '3', '0', '0', '240', '43', '2', '39', '5', '6%', '0%', '10%', '25%', '105']\n",
      "['Frappuccino® Light Blended Coffee', 'Java Chip', 'Venti Nonfat Milk', '290', '5', '4', '0', '5', '320', '58', '2', '52', '7', '8%', '0%', '15%', '35%', '165']\n",
      "['Frappuccino® Blended Crème', 'Strawberries & Crème (Without Whipped Cream)', 'Tall Nonfat Milk', '170', '0.1', '0.1', '0', '0', '140', '39', '0', '38', '3', '6%', '6%', '10%', '2%', '0']\n",
      "['Frappuccino® Blended Crème', 'Strawberries & Crème (Without Whipped Cream)', 'Whole Milk', '190', '3', '1.5', '0.1', '10', '140', '38', '0', '37', '3', '4%', '6%', '10%', '2%', '0']\n",
      "['Frappuccino® Blended Crème', 'Strawberries & Crème (Without Whipped Cream)', 'Soymilk', '170', '1.5', '0.2', '0', '0', '135', '37', '1', '35', '3', '4%', '6%', '10%', '6%', '0']\n",
      "['Frappuccino® Blended Crème', 'Strawberries & Crème (Without Whipped Cream)', 'Grande Nonfat Milk', '230', '0.2', '0.1', '0', '0', '190', '53', '0', '52', '4', '8%', '6%', '15%', '4%', '0']\n",
      "['Frappuccino® Blended Crème', 'Strawberries & Crème (Without Whipped Cream)', 'Whole Milk', '260', '4', '2', '0.1', '10', '190', '53', '0', '52', '4', '6%', '6%', '15%', '4%', '0']\n",
      "['Frappuccino® Blended Crème', 'Strawberries & Crème (Without Whipped Cream)', 'Soymilk', '240', '2', '0.2', '0', '0', '180', '51', '1', '49', '3', '4%', '6%', '15%', '8%', '0']\n",
      "['Frappuccino® Blended Crème', 'Strawberries & Crème (Without Whipped Cream)', 'Venti Nonfat Milk', '310', '0.2', '0.1', '0', '5', '260', '70', '0', '69', '6', '10%', '8%', '20%', '4%', '0']\n",
      "['Frappuccino® Blended Crème', 'Strawberries & Crème (Without Whipped Cream)', 'Whole Milk', '350', '6', '3', '0.2', '15', '260', '70', '0', '68', '6', '8%', '8%', '20%', '4%', '0']\n",
      "['Frappuccino® Blended Crème', 'Strawberries & Crème (Without Whipped Cream)', 'Soymilk', '320', '3 2', '0.4', '0', '0', '250', '67', '1', '64', '5', '6%', '8%', '20%', '10%', '0']\n",
      "['Frappuccino® Blended Crème', 'Vanilla Bean (Without Whipped Cream)', 'Tall Nonfat Milk', '170', '0.1', '0.1', '0', '0', '160', '39', '0', '38', '4', '6%', '0%', '10%', '0%', '0']\n",
      "['Frappuccino® Blended Crème', 'Vanilla Bean (Without Whipped Cream)', 'Whole Milk', '200', '3.5', '2', '0.1', '10', '160', '39', '0', '38', '3', '6%', '0%', '10%', '0%', '0']\n",
      "['Frappuccino® Blended Crème', 'Vanilla Bean (Without Whipped Cream)', 'Soymilk', '180', '1.5', '0.2', '0', '0', '160', '37', '1', '35', '3', '4%', '0%', '10%', '6%', '0']\n",
      "['Frappuccino® Blended Crème', 'Vanilla Bean (Without Whipped Cream)', 'Grande Nonfat Milk', '240', '0.1', '0.1', '0', '5', '230', '56', '0', '55', '5', '8%', '0%', '15%', '0%', '0']\n"
     ]
    }
   ],
   "source": [
    "import csv #the csv library\n",
    "with open('starbucks_drinkMenu_expanded.csv') as csvfile: #open the file\n",
    "    #creates a csv reader object which stores the lines of the files in lists and lets us iterate over them\n",
    "    drinksreader = csv.reader(csvfile) \n",
    "    headers = next(drinksreader, None) #skip over the headers\n",
    "    for row in drinksreader:\n",
    "        print(row)#take a look at what is being printed out"
   ]
  },
  {
   "cell_type": "markdown",
   "metadata": {},
   "source": [
    "## Bar Chart\n",
    "\n",
    "Let's start by creating a visualization that you might already be familiar with: a bar chart. Bar charts are used to show comparisons between categories of data. A bar chart will have two axis, one will typically be numerical values while the other will be some sort of category. There are two types of bar charts: vertical and horizontal. Let's looks at some examples of how to create a bar chart using our dataset!"
   ]
  },
  {
   "cell_type": "markdown",
   "metadata": {},
   "source": [
    "In this example let's compare the sugar content of different types of drinks (lattes, mochas, and teas) using our dataset. Here are the steps we are going to perform to create this visualization: \n",
    "\n",
    "1. Read in the data\n",
    "2. Extract the headers \n",
    "3. Find the index which corresponds to the beverage category and grams of sugar \n",
    "4. Filter for the types of drinks we are interested in (lattes, mochas, and teas)\n",
    "5. Store in a list\n",
    "6. Average the amount of sugar per type\n",
    "7. Use matplotlib to build a bar chart\n",
    "\n",
    "The first axis of our bar chart will be the beverage type, the second will be the the average sugar content in grams. More on bar charts in matplotlib [here](https://pythonspot.com/matplotlib-bar-chart/)"
   ]
  },
  {
   "cell_type": "code",
   "execution_count": 2,
   "metadata": {},
   "outputs": [
    {
     "ename": "ModuleNotFoundError",
     "evalue": "No module named 'matplotlib'",
     "output_type": "error",
     "traceback": [
      "\u001b[0;31m---------------------------------------------------------------------------\u001b[0m",
      "\u001b[0;31mModuleNotFoundError\u001b[0m                       Traceback (most recent call last)",
      "\u001b[0;32m<ipython-input-2-80ca890fa5be>\u001b[0m in \u001b[0;36m<module>\u001b[0;34m\u001b[0m\n\u001b[1;32m      1\u001b[0m \u001b[0;32mimport\u001b[0m \u001b[0mcsv\u001b[0m \u001b[0;31m#the csv library\u001b[0m\u001b[0;34m\u001b[0m\u001b[0;34m\u001b[0m\u001b[0m\n\u001b[0;32m----> 2\u001b[0;31m \u001b[0;32mimport\u001b[0m \u001b[0mmatplotlib\u001b[0m\u001b[0;34m.\u001b[0m\u001b[0mpyplot\u001b[0m \u001b[0;32mas\u001b[0m \u001b[0mplt\u001b[0m \u001b[0;31m#The visualization library\u001b[0m\u001b[0;34m\u001b[0m\u001b[0;34m\u001b[0m\u001b[0m\n\u001b[0m\u001b[1;32m      3\u001b[0m \u001b[0;32mimport\u001b[0m \u001b[0mnumpy\u001b[0m \u001b[0;32mas\u001b[0m \u001b[0mnp\u001b[0m \u001b[0;31m#provides math functions\u001b[0m\u001b[0;34m\u001b[0m\u001b[0;34m\u001b[0m\u001b[0m\n\u001b[1;32m      4\u001b[0m \u001b[0;34m\u001b[0m\u001b[0m\n\u001b[1;32m      5\u001b[0m \u001b[0;32mwith\u001b[0m \u001b[0mopen\u001b[0m\u001b[0;34m(\u001b[0m\u001b[0;34m'starbucks_drinkMenu_expanded.csv'\u001b[0m\u001b[0;34m)\u001b[0m \u001b[0;32mas\u001b[0m \u001b[0mcsvfile\u001b[0m\u001b[0;34m:\u001b[0m \u001b[0;31m#open the file\u001b[0m\u001b[0;34m\u001b[0m\u001b[0;34m\u001b[0m\u001b[0m\n",
      "\u001b[0;31mModuleNotFoundError\u001b[0m: No module named 'matplotlib'"
     ]
    }
   ],
   "source": [
    "import csv #the csv library\n",
    "import matplotlib.pyplot as plt #The visualization library\n",
    "import numpy as np #provides math functions\n",
    "\n",
    "with open('starbucks_drinkMenu_expanded.csv') as csvfile: #open the file\n",
    "    #creates a csv reader object which stores the lines of the files in lists and lets us iterate over them\n",
    "    drinksreader = csv.reader(csvfile) \n",
    "    headers = next(drinksreader, None) #skip over the headers\n",
    "    \n",
    "    #get the index that corresponds to the information we are interested in\n",
    "    drink_category_index = headers.index(\"Beverage\")\n",
    "    sugars_index = headers.index(\" Sugars (g)\")\n",
    "    \n",
    "    #This is where we will store the sugar info for our different beverage types\n",
    "    sugar_in_lattes = []\n",
    "    sugar_in_teas = []\n",
    "    sugar_in_mochas = []\n",
    "    \n",
    "    \n",
    "    for row in drinksreader:\n",
    "        drink_category = row[drink_category_index]\n",
    "        sugar_grams = row[sugars_index]\n",
    "        if 'Latte' in drink_category:\n",
    "            sugar_in_lattes.append(float(sugar_grams))\n",
    "        if 'Tea' in drink_category:\n",
    "            sugar_in_teas.append(float(sugar_grams))\n",
    "        if 'Mocha' in drink_category:\n",
    "            sugar_in_mochas.append(float(sugar_grams))\n",
    "        \n",
    "    \n",
    "    beverage_categories = [\"Latte\", 'Tea', 'Mocha']\n",
    "    #average the sugar content\n",
    "    average_sugar_in_lattes = np.mean(sugar_in_lattes)\n",
    "    average_sugar_in_teas = np.mean(sugar_in_teas)\n",
    "    average_sugar_in_mochas = np.mean(sugar_in_mochas)\n",
    "    \n",
    "    average_sugars = [average_sugar_in_lattes, average_sugar_in_teas, average_sugar_in_mochas]\n",
    "    \n",
    "    vertical_bar_chart_figure = plt.figure() #The outer container \n",
    "    vertical_bar_chart_axes = vertical_bar_chart_figure.add_axes([0.1, 0.2, 0.8, 0.9]) #The actual chart inside the figure\n",
    "    #For more explanation: https://heartbeat.fritz.ai/introduction-to-matplotlib-data-visualization-in-python-d9143287ae39\n",
    "    \n",
    "    #Create the bar chart using the bar() method\n",
    "    #The color argument lets us specify a list of colors for each of the bars\n",
    "    vertical_bar_chart_axes.bar(beverage_categories, average_sugars, color=[\"pink\", \"blue\", \"green\"])\n",
    "    \n",
    "    #Let's customize our chart!\n",
    "    \n",
    "    #Give it a title\n",
    "    vertical_bar_chart_axes.set_title('Vertical bar chart of average sugar in grams for different types of beverages on the Starbucks menu')\n",
    "    \n",
    "    #Always label your axis or no one will be able to understand what the chart is showing\n",
    "    vertical_bar_chart_axes.set_ylabel('Average sugar content in grams')\n",
    "    vertical_bar_chart_axes.set_xlabel('Beverage type')\n",
    "    \n",
    "    #How would we create a horizontal bar chart? Use the barh() method!\n",
    "    \n",
    "    horizontal_bar_chart_figure = plt.figure() #The outer container \n",
    "    horizontal_bar_chart_axes = horizontal_bar_chart_figure.add_axes([0.1, 0.2, 0.8, 0.9]) #The actual chart inside the figure\n",
    "    #For more explanation: https://heartbeat.fritz.ai/introduction-to-matplotlib-data-visualization-in-python-d9143287ae39\n",
    "    \n",
    "    #Create the bar chart using the barh() method\n",
    "    #The color argument lets us specify a list of colors for each of the bars\n",
    "    horizontal_bar_chart_axes.barh(beverage_categories, average_sugars, color=[\"pink\", \"blue\", \"green\"])\n",
    "    \n",
    "    #Let's customize our chart!\n",
    "    \n",
    "    #Give it a title\n",
    "    horizontal_bar_chart_axes.set_title('Horixontal bar chart of average sugar in grams for different types of beverages on the Starbucks menu')\n",
    "    \n",
    "    #Always label your axis or no one will be able to understand what the chart is showing\n",
    "    horizontal_bar_chart_axes.set_ylabel('Average sugar content in grams')\n",
    "    horizontal_bar_chart_axes.set_xlabel('Beverage type')\n",
    "    \n",
    "    \n",
    "    \n",
    "    \n",
    "  \n",
    "\n",
    "    \n",
    "            \n",
    "    \n",
    "    \n",
    "    "
   ]
  },
  {
   "cell_type": "markdown",
   "metadata": {},
   "source": [
    "## Class Dicussion: what do these bar charts show you? Were you surprised by the results?"
   ]
  },
  {
   "cell_type": "markdown",
   "metadata": {},
   "source": [
    "# Line Graph\n",
    "\n",
    "Line graphs are a type of graph where each data point is connected by lines. This can help us understand how something changes in value. In this next example we will use the data we processed in the bar chart examples to create a line graph using the plot() method."
   ]
  },
  {
   "cell_type": "code",
   "execution_count": 3,
   "metadata": {},
   "outputs": [
    {
     "data": {
      "text/plain": [
       "Text(0.5, 0, 'Beverage type')"
      ]
     },
     "execution_count": 3,
     "metadata": {},
     "output_type": "execute_result"
    },
    {
     "data": {
      "image/png": "[encoded data removed]",
      "text/plain": [
       "<Figure size 432x288 with 1 Axes>"
      ]
     },
     "metadata": {
      "needs_background": "light"
     },
     "output_type": "display_data"
    }
   ],
   "source": [
    "    line_graph_figure = plt.figure() #The outer container \n",
    "    line_graph_axes = line_graph_figure.add_axes([0.1, 0.2, 0.8, 0.9]) #The actual chart inside the figure\n",
    "    #For more explanation: https://heartbeat.fritz.ai/introduction-to-matplotlib-data-visualization-in-python-d9143287ae39\n",
    "    \n",
    "    #Create the line graph using the plot() method\n",
    "    line_graph_axes.plot(beverage_categories, average_sugars)\n",
    "    \n",
    "    #Let's customize our chart!\n",
    "    \n",
    "    #Give it a title\n",
    "    line_graph_axes.set_title('Line graph of average sugar in grams for different types of beverages on the Starbucks menu')\n",
    "    \n",
    "    #Always label your axis or no one will be able to understand what the chart is showing\n",
    "    line_graph_axes.set_ylabel('Average sugar content in grams')\n",
    "    line_graph_axes.set_xlabel('Beverage type')"
   ]
  },
  {
   "cell_type": "markdown",
   "metadata": {},
   "source": [
    "## Activity: make a bar chart and line graph for the average protein in grams for Cappuccinos, Macchiatos, and Smoothies"
   ]
  },
  {
   "cell_type": "code",
   "execution_count": 5,
   "metadata": {},
   "outputs": [
    {
     "ename": "ValueError",
     "evalue": "I/O operation on closed file.",
     "output_type": "error",
     "traceback": [
      "\u001b[0;31m---------------------------------------------------------------------------\u001b[0m",
      "\u001b[0;31mValueError\u001b[0m                                Traceback (most recent call last)",
      "\u001b[0;32m<ipython-input-5-89d7a7983d55>\u001b[0m in \u001b[0;36m<module>\u001b[0;34m\u001b[0m\n\u001b[1;32m      9\u001b[0m \u001b[0mprotein_in_smoothies\u001b[0m \u001b[0;34m=\u001b[0m \u001b[0;34m[\u001b[0m\u001b[0;34m]\u001b[0m\u001b[0;34m\u001b[0m\u001b[0;34m\u001b[0m\u001b[0m\n\u001b[1;32m     10\u001b[0m \u001b[0;34m\u001b[0m\u001b[0m\n\u001b[0;32m---> 11\u001b[0;31m \u001b[0;32mfor\u001b[0m \u001b[0mrow\u001b[0m \u001b[0;32min\u001b[0m \u001b[0mdrinksreader\u001b[0m\u001b[0;34m:\u001b[0m\u001b[0;34m\u001b[0m\u001b[0;34m\u001b[0m\u001b[0m\n\u001b[0m\u001b[1;32m     12\u001b[0m         \u001b[0mdrink_category\u001b[0m \u001b[0;34m=\u001b[0m \u001b[0mrow\u001b[0m\u001b[0;34m[\u001b[0m\u001b[0mdrink_category_index\u001b[0m\u001b[0;34m]\u001b[0m\u001b[0;34m\u001b[0m\u001b[0;34m\u001b[0m\u001b[0m\n\u001b[1;32m     13\u001b[0m         \u001b[0msugar_grams\u001b[0m \u001b[0;34m=\u001b[0m \u001b[0mrow\u001b[0m\u001b[0;34m[\u001b[0m\u001b[0msugars_index\u001b[0m\u001b[0;34m]\u001b[0m\u001b[0;34m\u001b[0m\u001b[0;34m\u001b[0m\u001b[0m\n",
      "\u001b[0;31mValueError\u001b[0m: I/O operation on closed file."
     ]
    }
   ],
   "source": [
    "#Make you charts here!\n",
    "with open('starbucks_drinkMenu_expanded.csv') as csvfile: #open the file\n",
    "    #creates a csv reader object which stores the lines of the files in lists and lets us iterate over them\n",
    "    drinksreader = csv.reader(csvfile) \n",
    "    headers = next(drinksreader, None)\n",
    "\n",
    "protein_in_cappuccinos = []\n",
    "protein_in_macchiatos = []\n",
    "protein_in_smoothies = []\n",
    "\n",
    "for row in drinksreader:\n",
    "        drink_category = row[drink_category_index]\n",
    "        sugar_grams = row[sugars_index]\n",
    "        if 'Cappuccino' in drink_category:\n",
    "            protein_in_cappuccinos.append(float(protein_grams))\n",
    "        if 'Macchiato' in drink_category:\n",
    "            protein_in_macchiatos.append(float(protein_grams))\n",
    "        if 'Smoothie' in drink_category:\n",
    "            protein_in_smoothies.append(float(protein_grams))\n",
    "            \n",
    "beverage_categories = [\"Latte\", 'Tea', 'Mocha']\n",
    "#average the sugar content\n",
    "average_protein_in_capp = np.mean(protein_in_cappuccinos)\n",
    "average_protein_in_mach = np.mean(protein_in_macchiatos)\n",
    "average_protein_in_smoothies = np.mean(protein_in_smoothies)\n",
    "\n",
    "average_protein = [average_protein_in_capp, average_protein_in_mach, average_protein_in_smoothies]\n",
    "\n",
    "vertical_bar_chart_figure = plt.figure() #The outer container \n",
    "vertical_bar_chart_axes = vertical_bar_chart_figure.add_axes([0.1, 0.2, 0.8, 0.9]) #The actual chart inside the figure\n",
    "#For more explanation: https://heartbeat.fritz.ai/introduction-to-matplotlib-data-visualization-in-python-d9143287ae39\n",
    "\n",
    "#Create the bar chart using the bar() method\n",
    "#The color argument lets us specify a list of colors for each of the bars\n",
    "vertical_bar_chart_axes.bar(beverage_categories, average_protein, color=[\"pink\", \"blue\", \"green\"])\n",
    "\n",
    "#Let's customize our chart!\n",
    "\n",
    "#Give it a title\n",
    "vertical_bar_chart_axes.set_title('Vertical bar chart of average protein in grams for different types of beverages on the Starbucks menu')\n",
    "\n",
    "#Always label your axis or no one will be able to understand what the chart is showing\n",
    "vertical_bar_chart_axes.set_ylabel('Average protein content in grams')\n",
    "vertical_bar_chart_axes.set_xlabel('Beverage type')\n"
   ]
  },
  {
   "cell_type": "markdown",
   "metadata": {},
   "source": [
    "## Histogram\n",
    "\n",
    "Histograms are similar to bar charts, but a histogram groups numbers into ranges. The x axis of a histogram typically shows the the value ranges and the y axis corresponds to the number of items in each range. Histograms help us better visulize and understand the distribution of the data for certain values. \n",
    "\n",
    "If you have continuous numerical data, in order to group the data into ranges you need to split the data into intervals, as known as bins. Let's look at an example by creating histograms for the sugar content of each type starbucks beverage.\n",
    "\n",
    "You might be wondering how do we decided how many bins to use? This is [an interesting topic](https://stats.stackexchange.com/questions/798/calculating-optimal-number-of-bins-in-a-histogram) and there are many ways to choose the bin number. For this class we don't need to worry too much about that and can just try out some different options and choose which one helps us visualize the data best. \n"
   ]
  },
  {
   "cell_type": "code",
   "execution_count": 52,
   "metadata": {},
   "outputs": [
    {
     "data": {
      "text/plain": [
       "Text(0.5, 0, 'Sugar in grams')"
      ]
     },
     "execution_count": 52,
     "metadata": {},
     "output_type": "execute_result"
    },
    {
     "data": {
      "image/png": "[encoded data removed]",
      "text/plain": [
       "<Figure size 432x288 with 1 Axes>"
      ]
     },
     "metadata": {
      "needs_background": "light"
     },
     "output_type": "display_data"
    },
    {
     "data": {
      "image/png": "[encoded data removed]",
      "text/plain": [
       "<Figure size 432x288 with 1 Axes>"
      ]
     },
     "metadata": {
      "needs_background": "light"
     },
     "output_type": "display_data"
    },
    {
     "data": {
      "image/png": "[encoded data removed]",
      "text/plain": [
       "<Figure size 432x288 with 1 Axes>"
      ]
     },
     "metadata": {
      "needs_background": "light"
     },
     "output_type": "display_data"
    }
   ],
   "source": [
    "#recall that  sugar_in_lattes, sugar_in_teas, and sugar_in_mochas are all lists that store the sugar in grams data\n",
    "#We will create histograms that help us better see the sugar content distributions for each type of beverage\n",
    "\n",
    "number_of_bins = 10\n",
    "\n",
    "latte_histogram_figure = plt.figure()\n",
    "latte_histogram_axes = latte_histogram_figure.add_axes([0.1, 0.2, 0.8, 0.9])\n",
    "\n",
    "latte_histogram_axes.hist(sugar_in_lattes, bins=number_of_bins)\n",
    "\n",
    "latte_histogram_axes.set_title('Histogram of sugar content in Lattes')\n",
    "latte_histogram_axes.set_ylabel('Frequency')\n",
    "latte_histogram_axes.set_xlabel('Sugar in grams')\n",
    "\n",
    "tea_histogram_figure = plt.figure()\n",
    "tea_histogram_axes = tea_histogram_figure.add_axes([0.1, 0.2, 0.8, 0.9])\n",
    "\n",
    "tea_histogram_axes.hist(sugar_in_teas, bins=number_of_bins)\n",
    "\n",
    "tea_histogram_axes.set_title('Histogram of sugar content in Teas')\n",
    "tea_histogram_axes.set_ylabel('Frequency')\n",
    "tea_histogram_axes.set_xlabel('Sugar in grams')\n",
    "\n",
    "mocha_histogram_figure = plt.figure()\n",
    "mocha_histogram_axes = mocha_histogram_figure.add_axes([0.1, 0.2, 0.8, 0.9])\n",
    "\n",
    "mocha_histogram_axes.hist(sugar_in_mochas, bins=number_of_bins)\n",
    "\n",
    "mocha_histogram_axes.set_title('Histogram of sugar content in Mochas')\n",
    "mocha_histogram_axes.set_ylabel('Frequency')\n",
    "mocha_histogram_axes.set_xlabel('Sugar in grams')\n",
    "\n"
   ]
  },
  {
   "cell_type": "markdown",
   "metadata": {},
   "source": [
    "## Class Dicussion: What observations about the data can you make with these histograms?\n",
    "\n",
    "## Activity: Create a histogram of the protein content in two different beverages of your choice!"
   ]
  },
  {
   "cell_type": "code",
   "execution_count": null,
   "metadata": {},
   "outputs": [],
   "source": []
  }
 ],
 "metadata": {
  "kernelspec": {
   "display_name": "Python 3",
   "language": "python",
   "name": "python3"
  },
  "language_info": {
   "codemirror_mode": {
    "name": "ipython",
    "version": 3
   },
   "file_extension": ".py",
   "mimetype": "text/x-python",
   "name": "python",
   "nbconvert_exporter": "python",
   "pygments_lexer": "ipython3",
   "version": "3.8.6"
  }
 },
 "nbformat": 4,
 "nbformat_minor": 2
}
